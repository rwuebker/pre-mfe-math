{
 "cells": [
  {
   "cell_type": "markdown",
   "metadata": {},
   "source": [
    "## <center> Mathematical Foundations </center>\n",
    "## <center> MFE Spring 2021 </center>\n",
    "## <center> Assignment 1 </center>\n",
    "<center>Student Name: Rick Wuebker\n",
    "<center>ID: richard_wuebker\n",
    "<center> Solved in team: No"
   ]
  },
  {
   "cell_type": "markdown",
   "metadata": {},
   "source": [
    "# 1.  Bond Pricing \n",
    "><b>a. Derive a formula for the value of a growing perpetuity with growth rate g and discount rate r where:</b>\n",
    " \n",
    "$$ 0 < g < r $$\n",
    "\n",
    "$$ B = \\sum\\limits_{k=0}^\\infty \\frac{C(1+g)^k}{(1+r)^{k+1}} $$"
   ]
  },
  {
   "cell_type": "markdown",
   "metadata": {},
   "source": [
    "$$ B = C\\sum\\limits_{k=0}^\\infty \\frac{(1+g)^k}{(1+r)^{k+1}} $$"
   ]
  },
  {
   "cell_type": "markdown",
   "metadata": {},
   "source": [
    "$$ B = \\frac{C}{(1+r)}\\sum\\limits_{k=0}^\\infty \\Big(\\frac{1+g}{1+r}\\Big)^k $$"
   ]
  },
  {
   "cell_type": "markdown",
   "metadata": {},
   "source": [
    "$$ 0 < g < r \\implies \\Big(\\frac{1+g}{1+r}\\Big) < 1 $$"
   ]
  },
  {
   "cell_type": "markdown",
   "metadata": {},
   "source": [
    "$$ B = \\frac{C}{(1+r)} \\Bigg(\\frac{1}{1 - \\frac{1+g}{1+r}}\\Bigg)  \\;\\;\\; \\because\\;\\;\\;\\sum\\limits_{k=0}^\\infty x^k = \\frac{1}{1-x}$$"
   ]
  },
  {
   "cell_type": "markdown",
   "metadata": {},
   "source": [
    "$$ B = \\frac{C}{(1+r)} \\Bigg(\\frac{1 + r}{r - g}\\Bigg) $$"
   ]
  },
  {
   "cell_type": "markdown",
   "metadata": {},
   "source": [
    "$$ B = \\frac{C}{r - g} $$"
   ]
  },
  {
   "cell_type": "markdown",
   "metadata": {},
   "source": [
    "><b>b. As of December 31, 2014, calculate the value of the comet perpetuity. First payment at end of 2061 and occurs every 76 years, the value being the year, $ r = 1\\% $</b>"
   ]
  },
  {
   "cell_type": "markdown",
   "metadata": {},
   "source": [
    "$$ B = \\sum\\limits_{k=0}^\\infty \\frac{2061 + 76k}{(1.01)^{47 + 76k}}$$"
   ]
  },
  {
   "cell_type": "markdown",
   "metadata": {},
   "source": [
    "$$ B = \\frac{1}{1.01^{47}}\\sum\\limits_{k=0}^\\infty \\frac{2061 + 76k}{1.01^{76k}}$$"
   ]
  },
  {
   "cell_type": "markdown",
   "metadata": {},
   "source": [
    "$$ B = \\frac{1}{1.01^{47}}\\Bigg(\\sum\\limits_{k=0}^\\infty \\frac{2061}{1.01^{76k}} + \\sum\\limits_{k=0}^\\infty \\frac{76k}{1.01^{76k}} \\Bigg) \\tag{1} $$"
   ]
  },
  {
   "cell_type": "markdown",
   "metadata": {},
   "source": [
    "<center>I will solve each of the sums in parens individually</center>"
   ]
  },
  {
   "cell_type": "markdown",
   "metadata": {},
   "source": [
    "$$ *** $$"
   ]
  },
  {
   "cell_type": "markdown",
   "metadata": {},
   "source": [
    "$$ \\sum\\limits_{k=0}^\\infty \\frac{2016}{1.01^{76k}} = 2061\\sum\\limits_{k=0}^\\infty \\bigg(\\frac{1}{1.01^{76}}\\bigg)^k = 2061\\Bigg(\\frac{1}{1 - \\frac{1}{1.01^{76}}}\\Bigg) = 2061\\Bigg(\\frac{1.01^{76}}{1.01^{76} - 1}\\Bigg) \\approx 3884.5392$$"
   ]
  },
  {
   "cell_type": "markdown",
   "metadata": {},
   "source": [
    "$$ *** $$"
   ]
  },
  {
   "cell_type": "markdown",
   "metadata": {},
   "source": [
    "$$ \\textrm{Let } V = \\sum\\limits_{k=0}^\\infty \\frac{76k}{1.01^{76k}}$$"
   ]
  },
  {
   "cell_type": "markdown",
   "metadata": {},
   "source": [
    "$$V = \\sum\\limits_{k=0}^\\infty \\frac{76k}{1.01^{76k}} = \\sum\\limits_{k=1}^\\infty \\frac{76(k-1)}{1.01^{76(k-1)}} = \\sum\\limits_{k=1}^\\infty \\frac{76(k-1)}{1.01^{(76k-76)}} = (1.01^{76})\\sum\\limits_{k=1}^\\infty \\Big(\\frac{76(k-1)}{1.01^{76k}}\\Big) $$"
   ]
  },
  {
   "cell_type": "markdown",
   "metadata": {},
   "source": [
    "$$ V= (1.01^{76})\\Bigg(\\sum\\limits_{k=1}^\\infty \\frac{76k}{1.01^{(76k)}} -  \\sum\\limits_{k=1}^\\infty \\frac{76}{1.01^{(76k)}} \\Bigg)$$"
   ]
  },
  {
   "cell_type": "markdown",
   "metadata": {},
   "source": [
    "$$ V= (1.01^{76})\\Bigg(V -  \\sum\\limits_{k=1}^\\infty \\frac{76}{1.01^{(76k)}} \\Bigg) \\;\\;\\;\\; \\because \\;\\;\\;\\; \\sum\\limits_{k=0}^\\infty \\frac{76k}{1.01^{76k}} = \\sum\\limits_{k=1}^\\infty \\frac{76k}{1.01^{76k}}$$"
   ]
  },
  {
   "cell_type": "markdown",
   "metadata": {},
   "source": [
    "$$ V= (1.01^{76})V - 76(1.01^{76})\\sum\\limits_{k=1}^\\infty \\frac{1}{1.01^{(76k)}}$$"
   ]
  },
  {
   "cell_type": "markdown",
   "metadata": {},
   "source": [
    "$$ V - (1.01^{76})V = -76(1.01^{76})\\sum\\limits_{k=1}^\\infty \\frac{1}{1.01^{(76k)}}$$"
   ]
  },
  {
   "cell_type": "markdown",
   "metadata": {},
   "source": [
    "$$ V[1 - (1.01^{76})] = -76\\sum\\limits_{k=1}^\\infty \\frac{1}{1.01^{76k-76}} $$"
   ]
  },
  {
   "cell_type": "markdown",
   "metadata": {},
   "source": [
    "$$ V[1 - (1.01^{76})] = -76\\sum\\limits_{k=1}^\\infty \\frac{1}{1.01^{76(k-1)}} $$"
   ]
  },
  {
   "cell_type": "markdown",
   "metadata": {},
   "source": [
    "$$ V[1 - (1.01^{76})] = -76\\sum\\limits_{k=0}^\\infty \\Big(\\frac{1}{1.01^{76}}\\Big)^k $$"
   ]
  },
  {
   "cell_type": "markdown",
   "metadata": {},
   "source": [
    "$$ V[1 - (1.01^{76})] = -76\\Bigg(\\frac{1}{1 - \\frac{1}{1.01^{76}}}\\Bigg) $$"
   ]
  },
  {
   "cell_type": "markdown",
   "metadata": {},
   "source": [
    "$$ V[1 - (1.01^{76})] = -76\\Bigg(\\frac{1.01^{76}}{1.01^{76} - 1}\\Bigg) $$"
   ]
  },
  {
   "cell_type": "markdown",
   "metadata": {},
   "source": [
    "$$ V = 126.7396 $$"
   ]
  },
  {
   "cell_type": "markdown",
   "metadata": {},
   "source": [
    "<center>Plugging the two sums back into (1)</center>"
   ]
  },
  {
   "cell_type": "markdown",
   "metadata": {},
   "source": [
    "$$ B \\approx \\frac{1}{1.01^{47}} (3884.5392 + 126.7396)  $$"
   ]
  },
  {
   "cell_type": "markdown",
   "metadata": {},
   "source": [
    "$$ B \\approx 2512.9178  $$"
   ]
  },
  {
   "cell_type": "markdown",
   "metadata": {},
   "source": [
    "# 2. Portfolio Hedging   \n",
    "><b>a. Derive the delta of a vanilla european put option from the formula:</b>\n",
    "\n",
    "$$ P_k(S) = Ke^{-rT}[1 - N(x-\\sigma\\sqrt{T})] - S[1 - N(x)] $$\n",
    "\n",
    "$$ x = \\frac{ln(S/K) + (r + \\sigma^2/2)T}{\\sigma\\sqrt{T}} $$\n",
    "\n",
    "$$ N'(x) = \\frac{1}{\\sqrt{2\\pi}}e^{-\\frac{x^2}{2}} $$"
   ]
  },
  {
   "cell_type": "markdown",
   "metadata": {},
   "source": [
    "$$ *** Solution *** $$"
   ]
  },
  {
   "cell_type": "markdown",
   "metadata": {},
   "source": [
    "$$ \\Delta x_S = \\frac{1}{S\\sigma\\sqrt{T}} $$"
   ]
  },
  {
   "cell_type": "markdown",
   "metadata": {},
   "source": [
    "$$ \\Delta P = -Ke^{-rT}N'(x - \\sigma\\sqrt{T}) \\Delta x_S - 1 + N(x) + SN'(x)\\Delta x_S$$"
   ]
  },
  {
   "cell_type": "markdown",
   "metadata": {},
   "source": [
    "$$ \\Delta P = -Ke^{-rT}\\frac{1}{\\sqrt{2\\pi}}e^{-\\frac{(x-\\sigma\\sqrt{T})^2}{2}} \\Delta x_S - 1 + N(x) + SN'(x)\\Delta x_S \\;\\;\\; \\because \\;\\;\\; N'(x-\\sigma\\sqrt{T}) = \\frac{1}{\\sqrt{2\\pi}}e^{-\\frac{(x-\\sigma\\sqrt{T})^2}{2}}$$"
   ]
  },
  {
   "cell_type": "markdown",
   "metadata": {},
   "source": [
    "$$ \\Delta P = -Ke^{-rT}\\frac{1}{\\sqrt{2\\pi}}e^{-\\frac{(x^2 - 2x\\sigma\\sqrt{T} + \\sigma^2T)}{2}} \\Delta x_S - 1 + N(x) + SN'(x)\\Delta x_S $$"
   ]
  },
  {
   "cell_type": "markdown",
   "metadata": {},
   "source": [
    "$$ \\Delta P = \\frac{-Ke^{-rT}e^{-\\frac{x^2}{2}}e^{-\\frac{\\sigma^2T}{2}} e^{x\\sigma\\sqrt{T}}}{\\sqrt{2\\pi}} \\Delta x_S  + \\frac{Se^{-\\frac{x^2}{2}}}{\\sqrt{2\\pi}}\\Delta x_S +N(x) - 1$$"
   ]
  },
  {
   "cell_type": "markdown",
   "metadata": {},
   "source": [
    "$$ \\Delta P = \\frac{\\Delta x_S e^{-\\frac{x^2}{2}}}{\\sqrt{2\\pi}} \\Big(S - Ke^{-rT}e^{-\\frac{\\sigma^2T}{2}}e^{x\\sigma\\sqrt{T}}    \\Big) + N(x)-1$$"
   ]
  },
  {
   "cell_type": "markdown",
   "metadata": {},
   "source": [
    "$$ \\Delta P = \\frac{\\Delta x_S e^{-\\frac{x^2}{2}}}{\\sqrt{2\\pi}} \\Big(S - Ke^{-rT}e^{-\\frac{\\sigma^2T}{2}}e^{ln(S) - ln(k) +(r + \\sigma^2/2)T }    \\Big) + N(x)-1$$"
   ]
  },
  {
   "cell_type": "markdown",
   "metadata": {},
   "source": [
    "$$ \\Delta P = \\frac{\\Delta x_S e^{-\\frac{x^2}{2}}}{\\sqrt{2\\pi}} \\Big(S - Ke^{-rT}e^{-\\frac{\\sigma^2T}{2}}\\frac{S}{K}e^{rT}e^{\\frac{\\sigma^2T}{2} }    \\Big) + N(x)-1$$"
   ]
  },
  {
   "cell_type": "markdown",
   "metadata": {},
   "source": [
    "$$ \\Delta P = \\frac{\\Delta x_S e^{-\\frac{x^2}{2}}}{\\sqrt{2\\pi}} \\Big(S - S\\Big) + N(x)-1$$"
   ]
  },
  {
   "cell_type": "markdown",
   "metadata": {},
   "source": [
    "$$ \\Delta P =  N(x)-1$$"
   ]
  },
  {
   "cell_type": "markdown",
   "metadata": {},
   "source": [
    "><b>b. Derive the formula for the gamma of a put option</b>"
   ]
  },
  {
   "cell_type": "markdown",
   "metadata": {},
   "source": [
    "$$ \\Gamma_P = \\frac{\\partial(N(x) - 1)}{\\partial S} $$"
   ]
  },
  {
   "cell_type": "markdown",
   "metadata": {},
   "source": [
    "$$ \\Gamma_P = N'(x)\\Delta x_S \\;\\;\\; \\textrm{where} \\;\\;\\; \\Delta x_S = \\frac{\\partial \\Bigg(\\frac{ln(S/K) + (r + \\sigma^2/2)T}{\\sigma\\sqrt{T}}\\Bigg)}{\\partial(S)} = \\frac{\\partial \\Bigg(\\frac{ln(S) - ln(K) + (r + \\sigma^2/2)T}{\\sigma\\sqrt{T}}\\Bigg)}{\\partial(S)} = \\frac{1}{S\\sigma\\sqrt{T}}$$"
   ]
  },
  {
   "cell_type": "markdown",
   "metadata": {},
   "source": [
    "$$ \\Gamma_P = \\frac{N'(x)}{S\\sigma\\sqrt{T}} $$"
   ]
  },
  {
   "cell_type": "markdown",
   "metadata": {},
   "source": [
    "><b>c. Use Taylor's formula to derive expressions for $h_1$ and $h_2$ in the delta-gamma neutral hedge as a function of $\\Delta_{P_{K_1}}$, $\\Delta_{P_{K_2}}$, $\\Gamma_{P_{K_1}}$ and $ \\Gamma_{P_{K_2}} $</b>"
   ]
  },
  {
   "cell_type": "markdown",
   "metadata": {},
   "source": [
    "$$ V(S) =  h_S S + h_1P_1(S) + h_2P_2(S) $$"
   ]
  },
  {
   "cell_type": "markdown",
   "metadata": {},
   "source": [
    "$$ V(S + \\Delta S) = V(S) + \\Delta S\\frac{\\partial{V(S)}}{\\partial S} + \\frac{(\\Delta S)^2}{2} \\frac{\\partial^2 V(S)}{\\partial S^2} + \\mathcal{O}(\\Delta S)^3   $$"
   ]
  },
  {
   "cell_type": "markdown",
   "metadata": {},
   "source": [
    "$$ V(S + \\Delta S) = V(S) + \\Delta S (h_S + h_1 \\Delta_{P_1} + h_2 \\Delta_{P_2}) + \\frac{(\\Delta S)^2}{2}(h_1 \\Gamma_{P_1} + h_2\\Gamma_{P_2}) + \\mathcal{O}(\\Delta S)^3   $$"
   ]
  },
  {
   "cell_type": "markdown",
   "metadata": {},
   "source": [
    "$$ V(S + \\Delta S) - V(S) = \\Delta S (h_S + h_1 \\Delta_{P_1} + h_2 \\Delta_{P_2}) + \\frac{(\\Delta S)^2}{2}(h_1 \\Gamma_{P_1} + h_2\\Gamma_{P_2}) + \\mathcal{O}(\\Delta S)^3   $$"
   ]
  },
  {
   "cell_type": "markdown",
   "metadata": {},
   "source": [
    "<center> We want to set the change in portfolio value to zero</center>"
   ]
  },
  {
   "cell_type": "markdown",
   "metadata": {},
   "source": [
    "$$ \\Delta S (h_S + h_1 \\Delta_{P_1} + h_2 \\Delta_{P_2}) + \\frac{(\\Delta S)^2}{2}(h_1 \\Gamma_{P_1} + h_2\\Gamma_{P_2}) =0  $$"
   ]
  },
  {
   "cell_type": "markdown",
   "metadata": {},
   "source": [
    "<center>I will split these up to set the first order effect to zero and set the second order effect to zero to solve the system for $h_1$ and $h_2$</center>"
   ]
  },
  {
   "cell_type": "markdown",
   "metadata": {},
   "source": [
    "$$ \\Delta S (h_S + h_1 \\Delta_{P_1} + h_2 \\Delta_{P_2}) = 0 \\;\\;\\;\\;\\;\\;\\;\\;\\;\\;\\;\\;\\;\\;\\;\\;\\;\\;\\;\\;\\;\\;\\;\\;\\;\\;\\;\\;\\;\\;\\;\\;\\;\\;\\;\\;\\;\\;\\;\\; \n",
    "\\frac{(\\Delta S)^2}{2}(h_1 \\Gamma_{P_1} + h_2\\Gamma_{P_2}) =0  $$"
   ]
  },
  {
   "cell_type": "markdown",
   "metadata": {},
   "source": [
    "$$ h_1 \\Delta_{P_1} + h_2 \\Delta_{P_2} = -h_S \\;\\;\\;\\; (1)\n",
    "\\;\\;\\;\\;\\;\\;\\;\\;\\;\\;\\;\\;\\;\\;\\;\\;\\;\\;\\;\\;\\;\\;\\;\\;\\;\\;\\;\\;\\;\\;\\;\\;\\;\\;\\;\\;\\;\\;\\;\\; \n",
    "h_1 \\Gamma_{P_1} + h_2\\Gamma_{P_2} =0  \\;\\;\\;\\;\\; (2)$$"
   ]
  },
  {
   "cell_type": "markdown",
   "metadata": {},
   "source": [
    "<center> I will solve for $h_1$ in (1) then plug it into (2) to solve for $h_2$</center>"
   ]
  },
  {
   "cell_type": "markdown",
   "metadata": {},
   "source": [
    "$$ h_1   = -\\frac{(h_S + h_2 \\Delta_{P_2})}{\\Delta_{P_1}} \\;\\;\\;\\;\\;\\;\\; (3)\n",
    "\\;\\;\\;\\;\\;\\;\\;\\;\\;\\;\\;\\;\\;\\;\\;\\;\\;\\;\\;\\;\\;\\;\\;\\;\\;\\;\\;\\;\\;\\;\\;\\;\\;\\;\\;\\;\\;\\;\\;\\; \n",
    "-\\frac{(h_S + h_2 \\Delta_{P_2})}{\\Delta_{P_1}} \\Gamma_{P_1} + h_2\\Gamma_{P_2} =0  $$"
   ]
  },
  {
   "cell_type": "markdown",
   "metadata": {},
   "source": [
    "\n",
    "$$ (h_S + h_2 \\Delta_{P_2}) \\Gamma_{P_1} - \\Delta_{P_1}h_2\\Gamma_{P_2} =0  $$"
   ]
  },
  {
   "cell_type": "markdown",
   "metadata": {},
   "source": [
    "\n",
    "$$ h_S\\Gamma_{P_1} + h_2 \\Delta_{P_2} \\Gamma_{P_1} - \\Delta_{P_1}h_2\\Gamma_{P_2} = 0  $$"
   ]
  },
  {
   "cell_type": "markdown",
   "metadata": {},
   "source": [
    "$$h_2( \\Delta_{P_2} \\Gamma_{P_1} - \\Delta_{P_1}\\Gamma_{P_2}) = -h_S\\Gamma_{P_1}  $$"
   ]
  },
  {
   "cell_type": "markdown",
   "metadata": {},
   "source": [
    "$$h_2 = \\frac{-h_S\\Gamma_{P_1}}{( \\Delta_{P_2} \\Gamma_{P_1} - \\Delta_{P_1}\\Gamma_{P_2})}  $$"
   ]
  },
  {
   "cell_type": "markdown",
   "metadata": {},
   "source": [
    "<center>Now plugging $h_2$ back into (3) to solve for $h_1$</center>"
   ]
  },
  {
   "cell_type": "markdown",
   "metadata": {},
   "source": [
    "$$ h_1   = \\frac{-(h_S + \\frac{-h_S\\Gamma_{P_1}}{( \\Delta_{P_2} \\Gamma_{P_1} - \\Delta_{P_1}\\Gamma_{P_2})} \\Delta_{P_2})}{\\Delta_{P_1}} $$"
   ]
  },
  {
   "cell_type": "markdown",
   "metadata": {},
   "source": [
    "$$ h_1   = \\frac{-(h_S( \\Delta_{P_2} \\Gamma_{P_1} - \\Delta_{P_1}\\Gamma_{P_2}) - h_S\\Gamma_{P_1} \\Delta_{P_2})}{\\Delta_{P_1}( \\Delta_{P_2} \\Gamma_{P_1} - \\Delta_{P_1}\\Gamma_{P_2})} $$"
   ]
  },
  {
   "cell_type": "markdown",
   "metadata": {},
   "source": [
    "$$ h_1   = \\frac{h_S(\\Gamma_{P_1} \\Delta_{P_2} - \\Delta_{P_2} \\Gamma_{P_1} + \\Delta_{P_1}\\Gamma_{P_2})}{\\Delta_{P_1}( \\Delta_{P_2} \\Gamma_{P_1} - \\Delta_{P_1}\\Gamma_{P_2})} $$"
   ]
  },
  {
   "cell_type": "markdown",
   "metadata": {},
   "source": [
    "$$ h_1   = \\frac{h_S(\\Gamma_{P_1} \\Delta_{P_2} - \\Delta_{P_2} \\Gamma_{P_1} + \\Delta_{P_1}\\Gamma_{P_2})}{\\Delta_{P_1}( \\Delta_{P_2} \\Gamma_{P_1} - \\Delta_{P_1}\\Gamma_{P_2})} \n",
    "\\;\\;\\;\\;\\;\\;\\;\\;\\;\\;\\;\\;\\;\\;\\;\\;\\;\\;\\;\\;\\;\\;\\;\\;\\;\\;\\;\\;\\;\\;\\;\\;\\;\\;\\;\\;\\;\\;\\;\\; \n",
    "h_2 = \\frac{-h_S\\Gamma_{P_1}}{( \\Delta_{P_2} \\Gamma_{P_1} - \\Delta_{P_1}\\Gamma_{P_2})}\n",
    "$$"
   ]
  },
  {
   "cell_type": "markdown",
   "metadata": {},
   "source": [
    "# 3. Trading Model   \n",
    "><b>a. What is the t = 0 price of the portfolio $h = (1,1,0)^T$</b>"
   ]
  },
  {
   "cell_type": "markdown",
   "metadata": {},
   "source": [
    "$$ \\overline{D} = \n",
    "\\begin{bmatrix} \n",
    "-2 & 1 & 1 \\\\\n",
    "-3 & 1 & 2\\\\\n",
    "-16 & 8 & 9 \\\\\n",
    "\\end{bmatrix}\n",
    "$$"
   ]
  },
  {
   "cell_type": "markdown",
   "metadata": {},
   "source": [
    "$$ p_0 = \\begin{bmatrix} 1 &  1 &  0 \\end{bmatrix} \\begin{bmatrix} -2 \\\\ -3 \\\\ -16 \\\\ \\end{bmatrix}  = -\\$5$$"
   ]
  },
  {
   "cell_type": "markdown",
   "metadata": {},
   "source": [
    "><b>b. Is this market complete?</b>"
   ]
  },
  {
   "cell_type": "markdown",
   "metadata": {},
   "source": [
    ">>For completeness we look at the reachable payoff space which is the rowspace of D which is the columnspace of $D^T$\n"
   ]
  },
  {
   "cell_type": "markdown",
   "metadata": {},
   "source": [
    "$$ D^T = \\begin{bmatrix} 1 & 1 & 8 \\\\ 1 & 2 & 9 \\end{bmatrix} $$"
   ]
  },
  {
   "cell_type": "markdown",
   "metadata": {},
   "source": [
    ">>We can easily see that column 3 is just 7 times column 1 + column 2, however column 1 and column 2 are linearly independent and span the whole of $R^2$ which is our outcome space, thus the market is complete."
   ]
  },
  {
   "cell_type": "markdown",
   "metadata": {},
   "source": [
    "><b>c. Does the law of one price (LOOP) hold in this market?</b>"
   ]
  },
  {
   "cell_type": "markdown",
   "metadata": {},
   "source": [
    ">> No it does not hold. For example, if we hold 7 shares of asset 1, and 1 share of asset 2, the payoff will be:"
   ]
  },
  {
   "cell_type": "markdown",
   "metadata": {},
   "source": [
    "$$ \n",
    "\\begin{bmatrix} 7 & 1 & 0 \\end{bmatrix} \\begin{bmatrix}  \n",
    "1 & 1 \\\\\n",
    "1 & 2\\\\\n",
    "8 & 9 \\\\ \n",
    "\\end{bmatrix} = \\begin{bmatrix} 8 & 9\\end{bmatrix}\n",
    "$$"
   ]
  },
  {
   "cell_type": "markdown",
   "metadata": {},
   "source": [
    ">>This is the same payoff as holding asset 3. Asset 3 has a cost of 16, but the above portfolio would cost 17 so we have the same outcome but with different prices at time t = 0."
   ]
  },
  {
   "cell_type": "markdown",
   "metadata": {},
   "source": [
    "# 4. Law of One Price\n",
    "> <b>a. Use your knowledge of linear algebra to prove part 1 of the theorem: The LOOP holds if and only if there exists a state price vector. </b>"
   ]
  },
  {
   "cell_type": "markdown",
   "metadata": {},
   "source": [
    "<center>Let $ \\mathbf{D} \\in \\mathbb{R}^{NxM}$ where N = number of securities and M = number of possible outcomes.</center>"
   ]
  },
  {
   "cell_type": "markdown",
   "metadata": {},
   "source": [
    "<center>Let $\\mathbf{s}_0 \\in \\mathbb{R}^N$ be the initial price vector of assets<center>"
   ]
  },
  {
   "cell_type": "markdown",
   "metadata": {},
   "source": [
    "<center>Let $\\mathbf{h} \\in \\mathbb{R}^N$ be vector of purchased holdings for each asset.</center>"
   ]
  },
  {
   "cell_type": "markdown",
   "metadata": {},
   "source": [
    "<center>LOOP holds if $\\forall \\mathbf{h} : \\mathbf{h}^T\\mathbf{D} = 0 \\implies \\mathbf{h}^T\\mathbf{s}_0 = 0 \\;\\;\\;\\;\\;$         <b>(1)</b></center>"
   ]
  },
  {
   "cell_type": "markdown",
   "metadata": {},
   "source": [
    "<center>We define the state price vector, $\\psi \\in \\mathbb{R}^m$ if $\\forall \\mathbf{h}: \\mathbf{h}^T \\mathbf{s}_0 =  \\mathbf{h}^T D \\psi \\;\\;\\;\\;\\;\\;\\;$<b>(2)</b></center>"
   ]
  },
  {
   "cell_type": "markdown",
   "metadata": {},
   "source": [
    "<center>In <b>(2)</b> if $\\mathbf{h}^T\\mathbf{D} = \\mathbf{0} \\implies \\mathbf{h}^T\\mathbf{s}_0 = 0$ but this equality holds only where the state price vector exists.</center>"
   ]
  },
  {
   "cell_type": "markdown",
   "metadata": {},
   "source": [
    "$$\\mathbf{h}^T\\mathbf{s}_0 = \\mathbf{h}^T\\mathbf{D}\\mathbf{\\psi}$$"
   ]
  },
  {
   "cell_type": "markdown",
   "metadata": {},
   "source": [
    "$$0 = \\mathbf{h}^T\\mathbf{-s}_0 + \\mathbf{h}^T\\mathbf{D}\\mathbf{\\psi}$$"
   ]
  },
  {
   "cell_type": "markdown",
   "metadata": {},
   "source": [
    "$$ 0 = \\mathbf{h}^T [-\\mathbf{s}_0 ; \\mathbf{D}] \\begin{bmatrix} 1 \\\\ \\mathbf{\\psi} \\end{bmatrix} $$"
   ]
  },
  {
   "cell_type": "markdown",
   "metadata": {},
   "source": [
    "<center>Let $\\mathbf{\\overline{D}} = [-\\mathbf{s}_0 | \\mathbf{D}] \\in \\mathbb{R}^{NxM+1}$ be the augemented payoff matrix."
   ]
  },
  {
   "cell_type": "markdown",
   "metadata": {},
   "source": [
    "<center>$\\implies \\begin{bmatrix} 1 \\\\ \\psi \\end{bmatrix} \\in Nullspace\\Big(\\mathbf{\\overline{D}}\\Big)$</center>"
   ]
  },
  {
   "cell_type": "markdown",
   "metadata": {},
   "source": [
    "<center>Result of fundamental theorem of linear algebra: $Nullspace \\Big(\\overline{\\mathbf{D}}\\Big) \\oplus range\\Big(\\overline{\\mathbf{D}}^T\\Big)$ = M + 1</center>"
   ]
  },
  {
   "cell_type": "markdown",
   "metadata": {},
   "source": [
    "<center> $\\implies Nullspace(\\mathbf{D})$ exists when $range\\big(\\mathbf{\\overline{D}}^T\\big) <= M$ </center>"
   ]
  },
  {
   "cell_type": "markdown",
   "metadata": {},
   "source": [
    "<center>Conversely if $\\psi$ doesn't exist then neither does <b>(2)</b> and <b>(1)</b> doesn't hold</center>"
   ]
  },
  {
   "cell_type": "markdown",
   "metadata": {},
   "source": [
    "><b>b. Use your knowledge of linear algebra to prove part 2 of the theorem: In a market in which LOOP holds, the state price vector is unique if and only if the market is complete.</b>"
   ]
  },
  {
   "cell_type": "markdown",
   "metadata": {},
   "source": [
    "<center>Let $\\mathbf{\\overline{D}} = [-\\mathbf{s}_0 | \\mathbf{D}] \\in \\mathbb{R}^{NxM+1}$ be the augemented payoff matrix."
   ]
  },
  {
   "cell_type": "markdown",
   "metadata": {},
   "source": [
    "<center>We can alternatively define the state price vector, $\\psi$ if $\\forall \\mathbf{h}: \\mathbf{h}^T \\mathbf{\\overline{D}} \\begin{bmatrix} 1 \\\\ \\psi \\end{bmatrix} = \\mathbf{0}$</center>"
   ]
  },
  {
   "cell_type": "markdown",
   "metadata": {},
   "source": [
    "<center>$\\implies \\begin{bmatrix} 1 \\\\ \\psi \\end{bmatrix} \\in Nullspace\\Big(\\mathbf{\\overline{D}}\\Big)$</center>"
   ]
  },
  {
   "cell_type": "markdown",
   "metadata": {},
   "source": [
    "<center>Markets are complete if $rank(\\mathbf{D}) = M$ </center>"
   ]
  },
  {
   "cell_type": "markdown",
   "metadata": {},
   "source": [
    "<center>$\\mathbf{s}_0 = \\mathbf{D}\\psi \\implies \\mathbf{s}_0$ is a linear combination of the columns of $\\mathbf{D} \\implies$ rank$\\Big(\\mathbf{\\overline{D}}\\Big) = M$</center>"
   ]
  },
  {
   "cell_type": "markdown",
   "metadata": {},
   "source": [
    "<center>Result of fundamental theorem of linear algebra: $Nullspace \\Big(\\overline{\\mathbf{D}}\\Big) \\oplus range\\Big(\\overline{\\mathbf{D}}^T\\Big)$ = M + 1</center>"
   ]
  },
  {
   "cell_type": "markdown",
   "metadata": {},
   "source": [
    "$$ \\implies Dim(Nullspace \\Big({\\mathbf{D}}\\Big)) = 1 \\because rank\\Big(\\overline{\\mathbf{D}}^T\\Big) = M $$"
   ]
  },
  {
   "cell_type": "markdown",
   "metadata": {},
   "source": [
    "<center> $\\implies \\psi$ is unique and only scalar multiples of $\\begin{bmatrix} 1 \\\\ \\psi \\end{bmatrix}$ exist"
   ]
  },
  {
   "cell_type": "markdown",
   "metadata": {},
   "source": [
    "<center>Conversely, if the market is not complete, $\\implies$ rank($\\mathbf{\\overline{D}}) < M \\implies \\; Dim(Nullspace(\\mathbf{\\overline{D}})) > 1 \\implies \\psi$ exists in a plane or higher space with multiple solutions.</center>"
   ]
  },
  {
   "cell_type": "markdown",
   "metadata": {},
   "source": [
    "# 5. Eigenvalue Decomposition"
   ]
  },
  {
   "cell_type": "markdown",
   "metadata": {},
   "source": [
    "> Consider the matrix: $$\\begin{bmatrix} 3 & 1 \\\\ 1 & 3 \\\\ \\end{bmatrix}  $$"
   ]
  },
  {
   "cell_type": "markdown",
   "metadata": {},
   "source": [
    "> <b>a. What are the eigenvectors and eigenvalues?</b>"
   ]
  },
  {
   "cell_type": "markdown",
   "metadata": {},
   "source": [
    "$$ det \\Bigg(\\begin{bmatrix} 3 - \\lambda & 1 \\\\ 1 & 3 - \\lambda \\end{bmatrix}\\Bigg)  $$"
   ]
  },
  {
   "cell_type": "markdown",
   "metadata": {},
   "source": [
    "$$ = (3-\\lambda)(3 - \\lambda) - 1 $$"
   ]
  },
  {
   "cell_type": "markdown",
   "metadata": {},
   "source": [
    "$$ = 9 -6\\lambda + \\lambda^2 - 1 $$"
   ]
  },
  {
   "cell_type": "markdown",
   "metadata": {},
   "source": [
    "$$ =  \\lambda^2 - 6\\lambda + 8$$"
   ]
  },
  {
   "cell_type": "markdown",
   "metadata": {},
   "source": [
    "$$ (\\lambda - 4)(\\lambda - 2)$$\n"
   ]
  },
  {
   "cell_type": "markdown",
   "metadata": {},
   "source": [
    "<center> The eigenvalues = {4,2} </center>"
   ]
  },
  {
   "cell_type": "markdown",
   "metadata": {},
   "source": [
    "<center> For $ \\lambda = 4 $ </center>"
   ]
  },
  {
   "cell_type": "markdown",
   "metadata": {},
   "source": [
    "$$ \\begin{bmatrix} -1 & 1 \\\\ 1 & -1 \\end{bmatrix} \\begin{bmatrix} x_1 \\\\ x_2 \\end{bmatrix} = \\begin{bmatrix} 0 \\\\ 0 \\end{bmatrix} $$"
   ]
  },
  {
   "cell_type": "markdown",
   "metadata": {},
   "source": [
    "$$ -x_1 + x_2 = 0 $$"
   ]
  },
  {
   "cell_type": "markdown",
   "metadata": {},
   "source": [
    "$$ x_1 - x_2 = 0 $$"
   ]
  },
  {
   "cell_type": "markdown",
   "metadata": {},
   "source": [
    "<center> Both of these equations are solved when $ x_1 = x_2 $ so I will use $ x_1 = x_2 = 1 $ </center>"
   ]
  },
  {
   "cell_type": "markdown",
   "metadata": {},
   "source": [
    "<center> The corresponding eigenvector for $\\lambda = 4$ is $\\begin{bmatrix} 1 \\\\ 1 \\end{bmatrix}$ </center>"
   ]
  },
  {
   "cell_type": "markdown",
   "metadata": {},
   "source": [
    "<center> For $ \\lambda = 2 $ </center>"
   ]
  },
  {
   "cell_type": "markdown",
   "metadata": {},
   "source": [
    "$$ \\begin{bmatrix} 1 & 1 \\\\ 1 & 1 \\end{bmatrix} \\begin{bmatrix} x_1 \\\\ x_2 \\end{bmatrix} = \\begin{bmatrix} 0 \\\\ 0 \\end{bmatrix} $$"
   ]
  },
  {
   "cell_type": "markdown",
   "metadata": {},
   "source": [
    "$$ x_1 + x_2 = 0 $$"
   ]
  },
  {
   "cell_type": "markdown",
   "metadata": {},
   "source": [
    "$$ x_1 + x_2 = 0 $$"
   ]
  },
  {
   "cell_type": "markdown",
   "metadata": {},
   "source": [
    "<center> Both of these equations are solved when $ x_1 = -x_2 $ so I will use $ x_1 = 1, x_2 = -1 $ </center>"
   ]
  },
  {
   "cell_type": "markdown",
   "metadata": {},
   "source": [
    "<center> The corresponding eigenvector for $\\lambda = 2$ is $\\begin{bmatrix} 1 \\\\ -1 \\end{bmatrix}$ </center>"
   ]
  },
  {
   "cell_type": "markdown",
   "metadata": {},
   "source": [
    "> <b>b. What are the matricies Q and $\\Lambda$ in the spectral decomposition $ A = Q\\Lambda Q^T $?</b>"
   ]
  },
  {
   "cell_type": "markdown",
   "metadata": {},
   "source": [
    "<center> The $\\Lambda$ matrix has the eigenvalues on the diagonal and zero otherwise: </center>"
   ]
  },
  {
   "cell_type": "markdown",
   "metadata": {},
   "source": [
    "$$ \\Lambda = \\begin{bmatrix} 4 & 0 \\\\ 0 & 2 \\end{bmatrix}$$"
   ]
  },
  {
   "cell_type": "markdown",
   "metadata": {},
   "source": [
    "<center>$Q$ is just the normalized eigenvectors together</center> "
   ]
  },
  {
   "cell_type": "markdown",
   "metadata": {},
   "source": [
    "$$ Q = \\begin{bmatrix} \\frac{1}{\\sqrt{2}} & \\frac{1}{\\sqrt{2}} \\\\ \\frac{1}{\\sqrt{2}} & \\frac{-1}{\\sqrt{2}} \\end{bmatrix} $$"
   ]
  },
  {
   "cell_type": "code",
   "execution_count": 1,
   "metadata": {},
   "outputs": [
    {
     "data": {
      "text/plain": [
       "True"
      ]
     },
     "execution_count": 1,
     "metadata": {},
     "output_type": "execute_result"
    }
   ],
   "source": [
    "# check\n",
    "import numpy as np\n",
    "A = np.array([[3, 1], [1, 3]])\n",
    "lam = np.array([[4, 0], [0, 2]])\n",
    "Q = np.array([[1/np.sqrt(2), 1/np.sqrt(2)],[1/np.sqrt(2), -1/np.sqrt(2)]])\n",
    "decomp_A = np.dot(Q, lam).dot(Q.T) \n",
    "np.allclose(A, decomp_A) # tolerance = 1e-08"
   ]
  },
  {
   "cell_type": "markdown",
   "metadata": {},
   "source": [
    "> <b>c. Is A positive definite?</b>"
   ]
  },
  {
   "cell_type": "markdown",
   "metadata": {},
   "source": [
    "<center> Yes. A is symmetric and all the eigenvalues are positive so it is positive definite. </center>"
   ]
  },
  {
   "cell_type": "markdown",
   "metadata": {},
   "source": [
    "# 5. Principal Component Analysis"
   ]
  },
  {
   "cell_type": "markdown",
   "metadata": {},
   "source": [
    ">Complete a principal component analysis of the following data, where we decompose $\\mathbf{X} = \\mathbf{xc}$ where $\\mathbf{X} \\in \\mathbb{R}^{2x15}$ and $\\mathbf{x} \\in \\mathbb{R}^2$ and $ \\mathbf{c} \\in \\mathbb{R}^{15}$ "
   ]
  },
  {
   "cell_type": "code",
   "execution_count": 2,
   "metadata": {},
   "outputs": [
    {
     "data": {
      "text/plain": [
       "(2, 15)"
      ]
     },
     "execution_count": 2,
     "metadata": {},
     "output_type": "execute_result"
    }
   ],
   "source": [
    "row1 = [-0.066, -0.124, 0.259, 0.289, -0.318, -0.015, -0.060, 0.140, \n",
    "        0.203, 0.249, -0.229, 0.174, 0.149, -0.343, -0.305]\n",
    "row2 = [-0.204, -0.079, 0.565, 0.607, -0.425, -0.135, 0.011, 0.411, \n",
    "        0.350, 0.535, -0.668, 0.128, 0.317, -0.543, -0.870]\n",
    "X = np.array([row1, row2])\n",
    "X.shape"
   ]
  },
  {
   "cell_type": "code",
   "execution_count": 3,
   "metadata": {},
   "outputs": [
    {
     "data": {
      "text/plain": [
       "<matplotlib.collections.PathCollection at 0x12024aa20>"
      ]
     },
     "execution_count": 3,
     "metadata": {},
     "output_type": "execute_result"
    },
    {
     "data": {
      "image/png": "[encoded data removed]",
      "text/plain": [
       "<Figure size 432x288 with 1 Axes>"
      ]
     },
     "metadata": {
      "needs_background": "light"
     },
     "output_type": "display_data"
    }
   ],
   "source": [
    "import matplotlib.pyplot as plt\n",
    "plt.scatter(row1, row2)"
   ]
  },
  {
   "cell_type": "markdown",
   "metadata": {},
   "source": [
    "<center>We want to find the largest eigenvalue associated with the symmetric matrix $X X^T$ and the associated eigenvector will be our <b>x</b> vector</center>"
   ]
  },
  {
   "cell_type": "markdown",
   "metadata": {},
   "source": [
    "$$ A = X X^T $$"
   ]
  },
  {
   "cell_type": "code",
   "execution_count": 4,
   "metadata": {},
   "outputs": [
    {
     "data": {
      "text/plain": [
       "array([[0.713685, 1.417414],\n",
       "       [1.417414, 3.126994]])"
      ]
     },
     "execution_count": 4,
     "metadata": {},
     "output_type": "execute_result"
    }
   ],
   "source": [
    "A = np.dot(X, X.T)\n",
    "A"
   ]
  },
  {
   "cell_type": "code",
   "execution_count": 5,
   "metadata": {},
   "outputs": [
    {
     "data": {
      "text/plain": [
       "array([0.05886763, 3.78181137])"
      ]
     },
     "execution_count": 5,
     "metadata": {},
     "output_type": "execute_result"
    }
   ],
   "source": [
    "evalues, evectors = np.linalg.eig(A)\n",
    "evalues"
   ]
  },
  {
   "cell_type": "markdown",
   "metadata": {},
   "source": [
    "><b>a. What is the optimal x?</b>"
   ]
  },
  {
   "cell_type": "markdown",
   "metadata": {},
   "source": [
    "<center>3.7818 is the largest eigenvalue so we will use the associated eigenvector as $\\mathbf{x}$</center>"
   ]
  },
  {
   "cell_type": "code",
   "execution_count": 6,
   "metadata": {},
   "outputs": [
    {
     "data": {
      "text/plain": [
       "array([[-0.9078067 , -0.41938883],\n",
       "       [ 0.41938883, -0.9078067 ]])"
      ]
     },
     "execution_count": 6,
     "metadata": {},
     "output_type": "execute_result"
    }
   ],
   "source": [
    "evectors"
   ]
  },
  {
   "cell_type": "code",
   "execution_count": 7,
   "metadata": {},
   "outputs": [
    {
     "data": {
      "text/plain": [
       "array([[-0.41938883],\n",
       "       [-0.9078067 ]])"
      ]
     },
     "execution_count": 7,
     "metadata": {},
     "output_type": "execute_result"
    }
   ],
   "source": [
    "x = evectors[:,1].reshape((2,1))\n",
    "x"
   ]
  },
  {
   "cell_type": "markdown",
   "metadata": {},
   "source": [
    "$$ \\mathbf{x} = \\begin{bmatrix} -0.4194 \\\\ -0.9078 \\end{bmatrix} $$"
   ]
  },
  {
   "cell_type": "code",
   "execution_count": 8,
   "metadata": {},
   "outputs": [
    {
     "data": {
      "text/plain": [
       "<matplotlib.collections.PathCollection at 0x120352780>"
      ]
     },
     "execution_count": 8,
     "metadata": {},
     "output_type": "execute_result"
    },
    {
     "data": {
      "image/png": "[encoded data removed]",
      "text/plain": [
       "<Figure size 432x288 with 1 Axes>"
      ]
     },
     "metadata": {
      "needs_background": "light"
     },
     "output_type": "display_data"
    }
   ],
   "source": [
    "proj_op = x.T.dot(X)\n",
    "reduced_X = x.dot(proj_op)\n",
    "plt.scatter(reduced_X[0], reduced_X[1])"
   ]
  },
  {
   "cell_type": "markdown",
   "metadata": {},
   "source": [
    "><b>b. What is the error $e = \\frac{1}{M}\\sqrt{\\Sigma_m\\left\\Vert \\mathbf{v}^m - \\mathbf{xc}_m \\right\\Vert_2^2}$"
   ]
  },
  {
   "cell_type": "code",
   "execution_count": 9,
   "metadata": {},
   "outputs": [
    {
     "data": {
      "text/plain": [
       "0.016175101322599528"
      ]
     },
     "execution_count": 9,
     "metadata": {},
     "output_type": "execute_result"
    }
   ],
   "source": [
    "m = 15\n",
    "sum_sq_norm_diffs = 0\n",
    "for i in range(m):\n",
    "    diff = X[:,i] - reduced_X[:,i]\n",
    "    norm_diff = np.linalg.norm(diff)\n",
    "    sq_norm_diff = norm_diff * norm_diff\n",
    "    sum_sq_norm_diffs += sq_norm_diff\n",
    "        \n",
    "root_sq_norm_diffs = np.sqrt(sum_sq_norm_diffs)\n",
    "e = root_sq_norm_diffs/m\n",
    "e"
   ]
  },
  {
   "cell_type": "markdown",
   "metadata": {},
   "source": [
    "$$ e = 0.0162 $$"
   ]
  },
  {
   "cell_type": "markdown",
   "metadata": {},
   "source": [
    "><b>c. In light of your previous results, is it possible to represent the v's well in a 1-dimensional subspace, $E$?"
   ]
  },
  {
   "cell_type": "markdown",
   "metadata": {},
   "source": [
    "The error above appears to be low. Taking a look at both values plotted on the same axes we can see that the reduced line passes through the original points well."
   ]
  },
  {
   "cell_type": "code",
   "execution_count": 10,
   "metadata": {},
   "outputs": [
    {
     "data": {
      "image/png": "[encoded data removed]",
      "text/plain": [
       "<Figure size 432x288 with 1 Axes>"
      ]
     },
     "metadata": {},
     "output_type": "display_data"
    }
   ],
   "source": [
    "plt.style.use('ggplot')\n",
    "\n",
    "fig = plt.figure()\n",
    "ax1 = fig.add_subplot(111)\n",
    "\n",
    "ax1.scatter(X[0], X[1], c='gray', marker=\"o\", label='original')\n",
    "ax1.scatter(reduced_X[0], reduced_X[1], c='red', marker=\"D\", label='reduced')\n",
    "plt.legend(loc='upper left');\n",
    "plt.show()"
   ]
  },
  {
   "cell_type": "code",
   "execution_count": null,
   "metadata": {},
   "outputs": [],
   "source": []
  },
  {
   "cell_type": "code",
   "execution_count": null,
   "metadata": {},
   "outputs": [],
   "source": []
  },
  {
   "cell_type": "code",
   "execution_count": null,
   "metadata": {},
   "outputs": [],
   "source": []
  },
  {
   "cell_type": "code",
   "execution_count": null,
   "metadata": {},
   "outputs": [],
   "source": []
  }
 ],
 "metadata": {
  "kernelspec": {
   "display_name": "Python 3",
   "language": "python",
   "name": "python3"
  },
  "language_info": {
   "codemirror_mode": {
    "name": "ipython",
    "version": 3
   },
   "file_extension": ".py",
   "mimetype": "text/x-python",
   "name": "python",
   "nbconvert_exporter": "python",
   "pygments_lexer": "ipython3",
   "version": "3.6.8"
  }
 },
 "nbformat": 4,
 "nbformat_minor": 4
}
