{
 "cells": [
  {
   "cell_type": "markdown",
   "metadata": {},
   "source": [
    "## <center> Mathematical Foundations </center>\n",
    "## <center> MFE Spring 2021 </center>\n",
    "## <center> Assignment 2 </center>\n",
    "<center>Student Name: Rick Wuebker\n",
    "<center>ID: richard_wuebker\n",
    "<center> Solved in team: No"
   ]
  },
  {
   "cell_type": "markdown",
   "metadata": {},
   "source": [
    "# 1. Stochastic Matrices\n",
    "><b>Given the below transition matrix</b>"
   ]
  },
  {
   "cell_type": "code",
   "execution_count": 1,
   "metadata": {},
   "outputs": [
    {
     "data": {
      "text/html": [
       "<div>\n",
       "<style scoped>\n",
       "    .dataframe tbody tr th:only-of-type {\n",
       "        vertical-align: middle;\n",
       "    }\n",
       "\n",
       "    .dataframe tbody tr th {\n",
       "        vertical-align: top;\n",
       "    }\n",
       "\n",
       "    .dataframe thead th {\n",
       "        text-align: right;\n",
       "    }\n",
       "</style>\n",
       "<table border=\"1\" class=\"dataframe\">\n",
       "  <thead>\n",
       "    <tr style=\"text-align: right;\">\n",
       "      <th></th>\n",
       "      <th>AAA</th>\n",
       "      <th>AA</th>\n",
       "      <th>A</th>\n",
       "      <th>BBB</th>\n",
       "      <th>BB</th>\n",
       "      <th>B</th>\n",
       "      <th>CCC</th>\n",
       "      <th>Default</th>\n",
       "    </tr>\n",
       "  </thead>\n",
       "  <tbody>\n",
       "    <tr>\n",
       "      <th>AAA</th>\n",
       "      <td>0.90788000</td>\n",
       "      <td>0.08291000</td>\n",
       "      <td>0.00716000</td>\n",
       "      <td>0.00102000</td>\n",
       "      <td>0.00102000</td>\n",
       "      <td>0.00000000</td>\n",
       "      <td>0.00000000</td>\n",
       "      <td>0.00000000</td>\n",
       "    </tr>\n",
       "    <tr>\n",
       "      <th>AA</th>\n",
       "      <td>0.00103000</td>\n",
       "      <td>0.91219000</td>\n",
       "      <td>0.07851000</td>\n",
       "      <td>0.00620000</td>\n",
       "      <td>0.00103000</td>\n",
       "      <td>0.00103000</td>\n",
       "      <td>0.00000000</td>\n",
       "      <td>0.00000000</td>\n",
       "    </tr>\n",
       "    <tr>\n",
       "      <th>A</th>\n",
       "      <td>0.00924000</td>\n",
       "      <td>0.02361000</td>\n",
       "      <td>0.90041000</td>\n",
       "      <td>0.05441000</td>\n",
       "      <td>0.00719000</td>\n",
       "      <td>0.00308000</td>\n",
       "      <td>0.00103000</td>\n",
       "      <td>0.00103000</td>\n",
       "    </tr>\n",
       "    <tr>\n",
       "      <th>BBB</th>\n",
       "      <td>0.00000000</td>\n",
       "      <td>0.00318000</td>\n",
       "      <td>0.05938000</td>\n",
       "      <td>0.86947000</td>\n",
       "      <td>0.05302000</td>\n",
       "      <td>0.01116600</td>\n",
       "      <td>0.00117000</td>\n",
       "      <td>0.00212000</td>\n",
       "    </tr>\n",
       "    <tr>\n",
       "      <th>BB</th>\n",
       "      <td>0.00000000</td>\n",
       "      <td>0.00110000</td>\n",
       "      <td>0.00659000</td>\n",
       "      <td>0.07692000</td>\n",
       "      <td>0.80549000</td>\n",
       "      <td>0.08791000</td>\n",
       "      <td>0.00989000</td>\n",
       "      <td>0.01209000</td>\n",
       "    </tr>\n",
       "    <tr>\n",
       "      <th>B</th>\n",
       "      <td>0.00000000</td>\n",
       "      <td>0.00114000</td>\n",
       "      <td>0.00227000</td>\n",
       "      <td>0.00454000</td>\n",
       "      <td>0.06470000</td>\n",
       "      <td>0.82747000</td>\n",
       "      <td>0.04086000</td>\n",
       "      <td>0.05902000</td>\n",
       "    </tr>\n",
       "    <tr>\n",
       "      <th>CCC</th>\n",
       "      <td>0.00000000</td>\n",
       "      <td>0.00000000</td>\n",
       "      <td>0.00456000</td>\n",
       "      <td>0.01251000</td>\n",
       "      <td>0.02275000</td>\n",
       "      <td>0.12856000</td>\n",
       "      <td>0.60637000</td>\n",
       "      <td>0.22526000</td>\n",
       "    </tr>\n",
       "    <tr>\n",
       "      <th>Default</th>\n",
       "      <td>0.00000000</td>\n",
       "      <td>0.00000000</td>\n",
       "      <td>0.00000000</td>\n",
       "      <td>0.00000000</td>\n",
       "      <td>0.00000000</td>\n",
       "      <td>0.00000000</td>\n",
       "      <td>0.00000000</td>\n",
       "      <td>1.00000000</td>\n",
       "    </tr>\n",
       "  </tbody>\n",
       "</table>\n",
       "</div>"
      ],
      "text/plain": [
       "               AAA         AA          A        BBB         BB          B  \\\n",
       "AAA     0.90788000 0.08291000 0.00716000 0.00102000 0.00102000 0.00000000   \n",
       "AA      0.00103000 0.91219000 0.07851000 0.00620000 0.00103000 0.00103000   \n",
       "A       0.00924000 0.02361000 0.90041000 0.05441000 0.00719000 0.00308000   \n",
       "BBB     0.00000000 0.00318000 0.05938000 0.86947000 0.05302000 0.01116600   \n",
       "BB      0.00000000 0.00110000 0.00659000 0.07692000 0.80549000 0.08791000   \n",
       "B       0.00000000 0.00114000 0.00227000 0.00454000 0.06470000 0.82747000   \n",
       "CCC     0.00000000 0.00000000 0.00456000 0.01251000 0.02275000 0.12856000   \n",
       "Default 0.00000000 0.00000000 0.00000000 0.00000000 0.00000000 0.00000000   \n",
       "\n",
       "               CCC    Default  \n",
       "AAA     0.00000000 0.00000000  \n",
       "AA      0.00000000 0.00000000  \n",
       "A       0.00103000 0.00103000  \n",
       "BBB     0.00117000 0.00212000  \n",
       "BB      0.00989000 0.01209000  \n",
       "B       0.04086000 0.05902000  \n",
       "CCC     0.60637000 0.22526000  \n",
       "Default 0.00000000 1.00000000  "
      ]
     },
     "execution_count": 1,
     "metadata": {},
     "output_type": "execute_result"
    }
   ],
   "source": [
    "import numpy as np\n",
    "import pandas as pd\n",
    "np.set_printoptions(linewidth=100)\n",
    "np.set_printoptions(suppress=True, threshold=np.inf)\n",
    "pd.set_option('display.float_format', lambda x: '%.8f' % x)\n",
    "l = [[0.90788, 0.08291, 0.00716, 0.00102, 0.00102, 0, 0, 0],\n",
    "     [0.00103, 0.91219, 0.07851, 0.00620, 0.00103, 0.00103, 0, 0],\n",
    "     [0.00924, 0.02361, 0.90041, 0.05441, 0.00719, 0.00308, 0.00103, 0.00103],\n",
    "     [0, 0.00318, 0.05938, 0.86947, 0.05302, 0.011166, 0.00117, 0.00212],\n",
    "     [0, 0.00110, 0.00659, 0.07692, 0.80549, 0.08791, 0.00989, 0.01209],\n",
    "     [0, 0.00114, 0.00227, 0.00454, 0.06470, 0.82747, 0.04086, 0.05902],\n",
    "     [0, 0, 0.00456, 0.01251, 0.02275, 0.12856, 0.60637, 0.22526],\n",
    "     [0, 0, 0, 0, 0, 0, 0, 1.0]]\n",
    "phi = np.array(l)\n",
    "ix = ['AAA', 'AA', 'A', 'BBB', 'BB', 'B', 'CCC', 'Default']\n",
    "df = pd.DataFrame(data = phi, columns=ix, index=ix)\n",
    "df"
   ]
  },
  {
   "cell_type": "markdown",
   "metadata": {},
   "source": [
    "><b>(a) What is the probability that a bond over two years moves from an AA rating to Default?</b>"
   ]
  },
  {
   "cell_type": "code",
   "execution_count": 2,
   "metadata": {},
   "outputs": [
    {
     "name": "stdout",
     "output_type": "stream",
     "text": [
      "2.1869e-05\n"
     ]
    },
    {
     "data": {
      "text/html": [
       "<div>\n",
       "<style scoped>\n",
       "    .dataframe tbody tr th:only-of-type {\n",
       "        vertical-align: middle;\n",
       "    }\n",
       "\n",
       "    .dataframe tbody tr th {\n",
       "        vertical-align: top;\n",
       "    }\n",
       "\n",
       "    .dataframe thead th {\n",
       "        text-align: right;\n",
       "    }\n",
       "</style>\n",
       "<table border=\"1\" class=\"dataframe\">\n",
       "  <thead>\n",
       "    <tr style=\"text-align: right;\">\n",
       "      <th></th>\n",
       "      <th>AAA</th>\n",
       "      <th>AA</th>\n",
       "      <th>A</th>\n",
       "      <th>BBB</th>\n",
       "      <th>BB</th>\n",
       "      <th>B</th>\n",
       "      <th>CCC</th>\n",
       "      <th>Default</th>\n",
       "    </tr>\n",
       "  </thead>\n",
       "  <tbody>\n",
       "    <tr>\n",
       "      <th>AAA</th>\n",
       "      <td>0.82439765</td>\n",
       "      <td>0.15107542</td>\n",
       "      <td>0.01952391</td>\n",
       "      <td>0.00279497</td>\n",
       "      <td>0.00193860</td>\n",
       "      <td>0.00020851</td>\n",
       "      <td>0.00001866</td>\n",
       "      <td>0.00002187</td>\n",
       "    </tr>\n",
       "    <tr>\n",
       "      <th>AA</th>\n",
       "      <td>0.00260010</td>\n",
       "      <td>0.83405164</td>\n",
       "      <td>0.14269188</td>\n",
       "      <td>0.01540298</td>\n",
       "      <td>0.00273011</td>\n",
       "      <td>0.00219344</td>\n",
       "      <td>0.00014039</td>\n",
       "      <td>0.00016725</td>\n",
       "    </tr>\n",
       "    <tr>\n",
       "      <th>A</th>\n",
       "      <td>0.01673292</td>\n",
       "      <td>0.04374602</td>\n",
       "      <td>0.81594788</td>\n",
       "      <td>0.09703490</td>\n",
       "      <td>0.01540669</td>\n",
       "      <td>0.00671822</td>\n",
       "      <td>0.00181260</td>\n",
       "      <td>0.00257350</td>\n",
       "    </tr>\n",
       "    <tr>\n",
       "      <th>BBB</th>\n",
       "      <td>0.00055195</td>\n",
       "      <td>0.00713869</td>\n",
       "      <td>0.10572522</td>\n",
       "      <td>0.76337229</td>\n",
       "      <td>0.08998565</td>\n",
       "      <td>0.02394560</td>\n",
       "      <td>0.00276850</td>\n",
       "      <td>0.00558802</td>\n",
       "    </tr>\n",
       "    <tr>\n",
       "      <th>BB</th>\n",
       "      <td>0.00006202</td>\n",
       "      <td>0.00238986</td>\n",
       "      <td>0.01614041</td>\n",
       "      <td>0.12972614</td>\n",
       "      <td>0.65885373</td>\n",
       "      <td>0.14570529</td>\n",
       "      <td>0.01765208</td>\n",
       "      <td>0.02941450</td>\n",
       "    </tr>\n",
       "    <tr>\n",
       "      <th>B</th>\n",
       "      <td>0.00002215</td>\n",
       "      <td>0.00212241</td>\n",
       "      <td>0.00489407</td>\n",
       "      <td>0.01332257</td>\n",
       "      <td>0.10684028</td>\n",
       "      <td>0.69570620</td>\n",
       "      <td>0.05923424</td>\n",
       "      <td>0.11785559</td>\n",
       "    </tr>\n",
       "    <tr>\n",
       "      <th>CCC</th>\n",
       "      <td>0.00004213</td>\n",
       "      <td>0.00031903</td>\n",
       "      <td>0.00805551</td>\n",
       "      <td>0.02104446</td>\n",
       "      <td>0.04113371</td>\n",
       "      <td>0.18648815</td>\n",
       "      <td>0.37318187</td>\n",
       "      <td>0.36974478</td>\n",
       "    </tr>\n",
       "    <tr>\n",
       "      <th>Default</th>\n",
       "      <td>0.00000000</td>\n",
       "      <td>0.00000000</td>\n",
       "      <td>0.00000000</td>\n",
       "      <td>0.00000000</td>\n",
       "      <td>0.00000000</td>\n",
       "      <td>0.00000000</td>\n",
       "      <td>0.00000000</td>\n",
       "      <td>1.00000000</td>\n",
       "    </tr>\n",
       "  </tbody>\n",
       "</table>\n",
       "</div>"
      ],
      "text/plain": [
       "               AAA         AA          A        BBB         BB          B  \\\n",
       "AAA     0.82439765 0.15107542 0.01952391 0.00279497 0.00193860 0.00020851   \n",
       "AA      0.00260010 0.83405164 0.14269188 0.01540298 0.00273011 0.00219344   \n",
       "A       0.01673292 0.04374602 0.81594788 0.09703490 0.01540669 0.00671822   \n",
       "BBB     0.00055195 0.00713869 0.10572522 0.76337229 0.08998565 0.02394560   \n",
       "BB      0.00006202 0.00238986 0.01614041 0.12972614 0.65885373 0.14570529   \n",
       "B       0.00002215 0.00212241 0.00489407 0.01332257 0.10684028 0.69570620   \n",
       "CCC     0.00004213 0.00031903 0.00805551 0.02104446 0.04113371 0.18648815   \n",
       "Default 0.00000000 0.00000000 0.00000000 0.00000000 0.00000000 0.00000000   \n",
       "\n",
       "               CCC    Default  \n",
       "AAA     0.00001866 0.00002187  \n",
       "AA      0.00014039 0.00016725  \n",
       "A       0.00181260 0.00257350  \n",
       "BBB     0.00276850 0.00558802  \n",
       "BB      0.01765208 0.02941450  \n",
       "B       0.05923424 0.11785559  \n",
       "CCC     0.37318187 0.36974478  \n",
       "Default 0.00000000 1.00000000  "
      ]
     },
     "execution_count": 2,
     "metadata": {},
     "output_type": "execute_result"
    }
   ],
   "source": [
    "phi_sq = phi.dot(phi)\n",
    "print(phi_sq[0,7])\n",
    "pd.DataFrame(data=phi_sq, columns=ix, index=ix)"
   ]
  },
  {
   "cell_type": "markdown",
   "metadata": {},
   "source": [
    "$$ \\Phi^2 = \\begin{bmatrix}\n",
    "0.82439765 & 0.15107542 & 0.01952391 & 0.00279497 &  0.0019386 &0.00020851& 0.00001866& 0.00002187 \\\\ \n",
    "0.0026001 & 0.83405164& 0.14269188& 0.01540298& 0.00273011& 0.00219344& 0.00014039& 0.00016725 \\\\\n",
    "0.01673292& 0.04374602& 0.81594788& 0.0970349 & 0.01540669& 0.00671822& 0.0018126 & 0.0025735 \\\\\n",
    "0.00055195& 0.00713869& 0.10572522& 0.76337229& 0.08998565& 0.0239456 & 0.0027685 & 0.00558802 \\\\\n",
    "0.00006202& 0.00238986& 0.01614041& 0.12972614& 0.65885373& 0.14570529& 0.01765208& 0.0294145 \\\\\n",
    "0.00002215& 0.00212241& 0.00489407& 0.01332257& 0.10684028& 0.6957062 & 0.05923424& 0.11785559 \\\\\n",
    "0.00004213& 0.00031903& 0.00805551& 0.02104446& 0.04113371& 0.18648815& 0.37318187& 0.36974478 \\\\\n",
    "0.        & 0.        & 0.        & 0.        & 0.        &0.        & 0.        & 1. \\\\\n",
    "\\end{bmatrix}$$"
   ]
  },
  {
   "cell_type": "markdown",
   "metadata": {},
   "source": [
    "<center>$ \\Phi^2[0,7] = 0.002187$%</center>"
   ]
  },
  {
   "cell_type": "code",
   "execution_count": null,
   "metadata": {},
   "outputs": [],
   "source": []
  },
  {
   "cell_type": "markdown",
   "metadata": {},
   "source": [
    "><b>(b) What is the long-term (stationary) distribution, $\\mathbf{p}$, of the ratings for a corporate bond with the above transition matrix (assuming that it has a very long maturity state)?"
   ]
  },
  {
   "cell_type": "code",
   "execution_count": 11,
   "metadata": {},
   "outputs": [
    {
     "name": "stdout",
     "output_type": "stream",
     "text": [
      "converged after 1460 iterations!!!\n",
      "               AAA         AA          A        BBB         BB          B  \\\n",
      "AAA     0.00000000 0.00000000 0.00000001 0.00000001 0.00000000 0.00000000   \n",
      "AA      0.00000000 0.00000000 0.00000001 0.00000001 0.00000000 0.00000000   \n",
      "A       0.00000000 0.00000000 0.00000001 0.00000000 0.00000000 0.00000000   \n",
      "BBB     0.00000000 0.00000000 0.00000001 0.00000000 0.00000000 0.00000000   \n",
      "BB      0.00000000 0.00000000 0.00000000 0.00000000 0.00000000 0.00000000   \n",
      "B       0.00000000 0.00000000 0.00000000 0.00000000 0.00000000 0.00000000   \n",
      "CCC     0.00000000 0.00000000 0.00000000 0.00000000 0.00000000 0.00000000   \n",
      "Default 0.00000000 0.00000000 0.00000000 0.00000000 0.00000000 0.00000000   \n",
      "\n",
      "               CCC    Default  \n",
      "AAA     0.00000000 0.98875433  \n",
      "AA      0.00000000 0.98882510  \n",
      "A       0.00000000 0.98889601  \n",
      "BBB     0.00000000 0.98763573  \n",
      "BB      0.00000000 0.99281930  \n",
      "B       0.00000000 0.99625655  \n",
      "CCC     0.00000000 0.99786619  \n",
      "Default 0.00000000 1.00000000  \n"
     ]
    }
   ],
   "source": [
    "new_phi = phi\n",
    "converged = False\n",
    "for i in range(100000):\n",
    "    old_phi = new_phi\n",
    "    new_phi = old_phi.dot(phi)\n",
    "    if np.allclose(new_phi, old_phi, atol=1e-10): \n",
    "        print(f'converged after {i} iterations!!!')\n",
    "        print(pd.DataFrame(new_phi, columns=ix, index=ix))\n",
    "        converged = True\n",
    "        break\n",
    "\n",
    "if not converged:\n",
    "    print('failed to converge')\n",
    "\n",
    "    \n",
    "    "
   ]
  },
  {
   "cell_type": "markdown",
   "metadata": {},
   "source": [
    "<center>Multiplying $\\Phi$ by itself 1000 times is converging to: </center>"
   ]
  },
  {
   "cell_type": "markdown",
   "metadata": {},
   "source": [
    "$$ \\Phi^{1000} \\approx \\begin{bmatrix}\n",
    "0 & 0 & 0 & 0 & 0 & 0 & 0 & 1 \\\\\n",
    "0 & 0 & 0 & 0 & 0 & 0 & 0 & 1 \\\\\n",
    "0 & 0 & 0 & 0 & 0 & 0 & 0 & 1 \\\\\n",
    "0 & 0 & 0 & 0 & 0 & 0 & 0 & 1 \\\\\n",
    "0 & 0 & 0 & 0 & 0 & 0 & 0 & 1 \\\\\n",
    "0 & 0 & 0 & 0 & 0 & 0 & 0 & 1 \\\\\n",
    "0 & 0 & 0 & 0 & 0 & 0 & 0 & 1 \\\\\n",
    "0 & 0 & 0 & 0 & 0 & 0 & 0 & 1 \\\\\n",
    "\\end{bmatrix}\n",
    "$$"
   ]
  },
  {
   "cell_type": "markdown",
   "metadata": {},
   "source": [
    "<center>Implying that over the very long-term, according to this markov process, the probability of default is $\\approx$ 100% no matter the starting state.</center>"
   ]
  },
  {
   "cell_type": "markdown",
   "metadata": {},
   "source": [
    "$$ \\mathbf{p} = \\begin{bmatrix} 0 & 0 & 0 & 0 & 0 & 0 & 0 & 1 \\end{bmatrix}$$"
   ]
  },
  {
   "cell_type": "markdown",
   "metadata": {},
   "source": [
    "# 2. Portfolio Optimization"
   ]
  },
  {
   "cell_type": "markdown",
   "metadata": {},
   "source": [
    "$$u_0 = \\mathbf{h}^T\\mathbf{\\mu} \\tag{1}$$"
   ]
  },
  {
   "cell_type": "markdown",
   "metadata": {},
   "source": [
    "$$ \\mathbf{h}^T\\mathbf{1} = 1.00 \\tag{2}$$"
   ]
  },
  {
   "cell_type": "markdown",
   "metadata": {},
   "source": [
    "$$ U(\\mathbf{h}) = \\mathbf{h}^T\\mathbf{\\mu} - \\frac{\\gamma}{2}\\mathbf{h}^T\\Sigma\\mathbf{h} \\tag{3}$$"
   ]
  },
  {
   "cell_type": "markdown",
   "metadata": {},
   "source": [
    "$$A = \\mathbf{1}^T\\Sigma^{-1}\\mathbf{1} \\;\\;\\;\\;\\;\\;\\;B=\\mathbf{1}^T\\Sigma^{-1}\\mu\\;\\;\\;\\;\\;\\;C = \\mathbf{\\mu}^T\\Sigma^{-1}\\mathbf{\\mu} \\;\\;\\;\\;\\;\\;\\; \\Delta = AC - B^2 > 0 \\;\\;\\;\\;\\;\\;\\; \\mathbf{w_A} = \\frac{1}{A}\\Sigma^{-1}\\mathbf{1} \\;\\;\\;\\;\\;\\;\\; \\mathbf{w_B} = \\frac{1}{B}\\Sigma^{-1}\\mathbf{\\mu}$$"
   ]
  },
  {
   "cell_type": "markdown",
   "metadata": {},
   "source": [
    "><b>(a) Derive a formula for the optimal portfolio, $\\mathbf{h}$, satisfying (1) and (2) and maximizing (3). Express the formula as a function of A, B, C, $\\Delta$, $\\mu_0$, $w_A$ and $w_B$</b>"
   ]
  },
  {
   "cell_type": "markdown",
   "metadata": {},
   "source": [
    "$$L(\\mathbf{h}, \\lambda_1, \\lambda_2) = \\mathbf{h}^T\\mu - \\frac{\\gamma}{2}\\mathbf{h}^T\\Sigma\\mathbf{h} + \\lambda_1(\\mathbf{h}^T\\mathbf{1} - 1) + \\lambda_2(\\mathbf{h}^T\\mu - \\mu_0)$$"
   ]
  },
  {
   "cell_type": "markdown",
   "metadata": {},
   "source": [
    "$$\\frac{\\partial{L}}{\\partial{\\mathbf{h}}} = \\mu - \\gamma\\Sigma\\mathbf{h} + \\lambda_1\\mathbf{1} + \\lambda_2\\mathbf{\\mu}$$"
   ]
  },
  {
   "cell_type": "markdown",
   "metadata": {},
   "source": [
    "$$ \\mu - \\gamma\\Sigma\\mathbf{h} + \\lambda_1\\mathbf{1} + \\lambda_2\\mathbf{\\mu} = \\mathbf{0}$$"
   ]
  },
  {
   "cell_type": "markdown",
   "metadata": {},
   "source": [
    "$$- \\gamma\\Sigma\\mathbf{h} = -\\mu -\\lambda_1\\mathbf{1} - \\lambda_2\\mathbf{\\mu} $$"
   ]
  },
  {
   "cell_type": "markdown",
   "metadata": {},
   "source": [
    "$$\\Sigma\\mathbf{h} = \\frac{1}{\\gamma}\\mu + \\frac{\\lambda_1}{\\gamma}\\mathbf{1} + \\frac{\\lambda_2}{\\gamma}\\mathbf{\\mu} $$"
   ]
  },
  {
   "cell_type": "markdown",
   "metadata": {},
   "source": [
    "$$\\Sigma^{-1}\\Sigma\\mathbf{h} = \\frac{1}{\\gamma}\\Sigma^{-1}\\mu + \\frac{\\lambda_1}{\\gamma}\\Sigma^{-1}\\mathbf{1} + \\frac{\\lambda_2}{\\gamma}\\Sigma^{-1}\\mathbf{\\mu} $$"
   ]
  },
  {
   "cell_type": "markdown",
   "metadata": {},
   "source": [
    "$$\\mathbf{h} = \\frac{1}{\\gamma}\\Sigma^{-1}\\mu + \\frac{\\lambda_1}{\\gamma}\\Sigma^{-1}\\mathbf{1} + \\frac{\\lambda_2}{\\gamma}\\Sigma^{-1}\\mathbf{\\mu} \\tag{4}$$"
   ]
  },
  {
   "cell_type": "markdown",
   "metadata": {},
   "source": [
    "<center>Will solve the two below equations for $\\lambda_1$ and $\\lambda_2$</center>"
   ]
  },
  {
   "cell_type": "markdown",
   "metadata": {},
   "source": [
    "$$\\mathbf{1}^T\\mathbf{h} = \\frac{1}{\\gamma}\\mathbf{1}^T\\Sigma^{-1}\\mu + \\frac{\\lambda_1}{\\gamma}\\mathbf{1}^T\\Sigma^{-1}\\mathbf{1} + \\frac{\\lambda_2}{\\gamma}\\mathbf{1}^T\\Sigma^{-1}\\mathbf{\\mu} = 1 \\;\\;\\;\\;\\;\\;\\;\\;\\;\\; \\mathbf{\\mu}^T\\mathbf{h} = \\frac{1}{\\gamma}\\mathbf{\\mu}^T\\Sigma^{-1}\\mu + \\frac{\\lambda_1}{\\gamma}\\mathbf{\\mu}^T\\Sigma^{-1}\\mathbf{1} + \\frac{\\lambda_2}{\\gamma}\\mathbf{\\mu}^T\\Sigma^{-1}\\mathbf{\\mu} = \\mu_{0}$$ "
   ]
  },
  {
   "cell_type": "markdown",
   "metadata": {},
   "source": [
    "$$\\frac{1}{\\gamma}\\mathbf{1}^T\\Sigma^{-1}\\mu + \\frac{\\lambda_1}{\\gamma}\\mathbf{1}^T\\Sigma^{-1}\\mathbf{1} + \\frac{\\lambda_2}{\\gamma}\\mathbf{1}^T\\Sigma^{-1}\\mathbf{\\mu} = 1 $$"
   ]
  },
  {
   "cell_type": "markdown",
   "metadata": {},
   "source": [
    "$$B + \\lambda_1A + \\lambda_2B = \\gamma $$"
   ]
  },
  {
   "cell_type": "markdown",
   "metadata": {},
   "source": [
    "$$\\lambda_1A  = \\gamma - B - \\lambda_2B $$"
   ]
  },
  {
   "cell_type": "markdown",
   "metadata": {},
   "source": [
    "$$\\lambda_1  = \\frac{\\gamma - B(1 + \\lambda_2)}{A} \\tag{5}$$"
   ]
  },
  {
   "cell_type": "markdown",
   "metadata": {},
   "source": [
    "<center>Plugging this result into the second equation above</center>"
   ]
  },
  {
   "cell_type": "markdown",
   "metadata": {},
   "source": [
    "$$\\frac{1}{\\gamma}\\mathbf{\\mu}^T\\Sigma^{-1}\\mu + \\frac{\\lambda_1}{\\gamma}\\mathbf{\\mu}^T\\Sigma^{-1}\\mathbf{1} + \\frac{\\lambda_2}{\\gamma}\\mathbf{\\mu}^T\\Sigma^{-1}\\mathbf{\\mu} = \\mu_{0}$$ "
   ]
  },
  {
   "cell_type": "markdown",
   "metadata": {},
   "source": [
    "$$\\frac{1}{\\gamma}C + \\bigg(\\frac{\\gamma - B(1 + \\lambda_2)}{A}\\bigg)\\bigg(\\frac{\\mathbf{\\mu}^T\\Sigma^{-1}\\mathbf{1}}{\\gamma}\\bigg) + \\frac{\\lambda_2}{\\gamma}C = \\mu_{0}$$"
   ]
  },
  {
   "cell_type": "markdown",
   "metadata": {},
   "source": [
    "$$AC + (\\gamma - B - \\lambda_2B)(\\mathbf{\\mu}^T\\Sigma^{-1}\\mathbf{1}) + \\lambda_2AC = \\mu_{0}A\\gamma$$"
   ]
  },
  {
   "cell_type": "markdown",
   "metadata": {},
   "source": [
    "$$(\\gamma - B)(\\mathbf{\\mu}^T\\Sigma^{-1}\\mathbf{1}) - \\lambda_2B\\mathbf{\\mu}^T\\Sigma^{-1}\\mathbf{1} + \\lambda_2AC = \\mu_{0}A\\gamma - AC$$"
   ]
  },
  {
   "cell_type": "markdown",
   "metadata": {},
   "source": [
    "$$\\lambda_2B\\mathbf{\\mu}^T\\Sigma^{-1}\\mathbf{1} = -\\mu_{0}A\\gamma + AC + (\\gamma - B)(\\mathbf{\\mu}^T\\Sigma^{-1}\\mathbf{1}) + \\lambda_2AC$$"
   ]
  },
  {
   "cell_type": "markdown",
   "metadata": {},
   "source": [
    "$$\\lambda_2 = \\frac{-\\mu_{0}A\\gamma}{B\\mathbf{\\mu}^T\\Sigma^{-1}\\mathbf{1}} + \\frac{AC}{B\\mathbf{\\mu}^T\\Sigma^{-1}\\mathbf{1}} + \\frac{(\\gamma - B)(\\mathbf{\\mu}^T\\Sigma^{-1}\\mathbf{1})}{B\\mathbf{\\mu}^T\\Sigma^{-1}\\mathbf{1}} + \\frac{\\lambda_2AC}{B\\mathbf{\\mu}^T\\Sigma^{-1}\\mathbf{1}}$$"
   ]
  },
  {
   "cell_type": "markdown",
   "metadata": {},
   "source": [
    "<center>Note: since $\\Sigma$ is symmetric, $\\Sigma^{-1}$ is also symmetric $\\implies \\mu^T\\Sigma^{-1}\\mathbf{1} = \\mathbf{1}^T\\Sigma^{-1}\\mathbf{\\mu} = B$"
   ]
  },
  {
   "cell_type": "markdown",
   "metadata": {},
   "source": [
    "$$\\lambda_2 = \\frac{-\\mu_{0}A\\gamma}{B^2} + \\frac{AC}{B^2} + \\frac{(\\gamma - B)}{B} + \\frac{\\lambda_2AC}{B^2}$$"
   ]
  },
  {
   "cell_type": "markdown",
   "metadata": {},
   "source": [
    "$$\\lambda_2 = \\frac{AC + \\gamma B - B^2 + \\lambda_2AC -\\mu_{0}A\\gamma}{B^2}$$"
   ]
  },
  {
   "cell_type": "markdown",
   "metadata": {},
   "source": [
    "$$\\lambda_2 - \\lambda_2\\frac{AC}{B^2}= \\frac{AC + \\gamma B - B^2  -\\mu_{0}A\\gamma}{B^2}$$"
   ]
  },
  {
   "cell_type": "markdown",
   "metadata": {},
   "source": [
    "$$\\lambda_2 (1- \\frac{AC}{B^2})= \\frac{AC + \\gamma B - B^2  -\\mu_{0}A\\gamma}{B^2}$$"
   ]
  },
  {
   "cell_type": "markdown",
   "metadata": {},
   "source": [
    "$$\\lambda_2 (B^2- AC)= AC + \\gamma B - B^2 -\\mu_{0}A\\gamma$$"
   ]
  },
  {
   "cell_type": "markdown",
   "metadata": {},
   "source": [
    "$$\\lambda_2 = \\frac{\\Delta + \\gamma B + -\\mu_{0}A\\gamma}{-\\Delta}$$"
   ]
  },
  {
   "cell_type": "markdown",
   "metadata": {},
   "source": [
    "<center>Plugging $\\lambda_2$ into (5) above.</center>"
   ]
  },
  {
   "cell_type": "markdown",
   "metadata": {},
   "source": [
    "$$\\lambda_1  = \\frac{1}{A}(\\gamma - B(1 + \\lambda_2)) \\tag{5}$$"
   ]
  },
  {
   "cell_type": "markdown",
   "metadata": {},
   "source": [
    "$$\\lambda_1  = \\frac{1}{A}\\bigg[\\gamma - B\\bigg(1 +  \\frac{\\Delta + \\gamma B -\\mu_{0}A\\gamma}{-\\Delta}\\bigg)\\bigg]$$"
   ]
  },
  {
   "cell_type": "markdown",
   "metadata": {},
   "source": [
    "$$-A\\Delta\\lambda_1  = -\\Delta\\gamma + B(-\\Delta +  \\Delta + \\gamma B -\\mu_{0}A\\gamma)$$"
   ]
  },
  {
   "cell_type": "markdown",
   "metadata": {},
   "source": [
    "$$-A\\Delta\\lambda_1  = -\\Delta\\gamma + B(\\gamma B -\\mu_{0}A\\gamma)$$"
   ]
  },
  {
   "cell_type": "markdown",
   "metadata": {},
   "source": [
    "$$-A\\Delta\\lambda_1  = -\\Delta\\gamma + \\gamma B^2 - \\mu_{0}\\gamma AB$$"
   ]
  },
  {
   "cell_type": "markdown",
   "metadata": {},
   "source": [
    "$$\\lambda_1  = \\frac{\\Delta\\gamma - \\gamma B^2 + \\mu_{0}\\gamma AB}{A\\Delta}$$"
   ]
  },
  {
   "cell_type": "markdown",
   "metadata": {},
   "source": [
    "<center>Now plugging $\\lambda_1$ and $\\lambda_2$ back into (4)</center>"
   ]
  },
  {
   "cell_type": "markdown",
   "metadata": {},
   "source": [
    "$$\\mathbf{h} = \\frac{1}{\\gamma}\\Sigma^{-1}\\mu + \\frac{\\lambda_1}{\\gamma}\\Sigma^{-1}\\mathbf{1} + \\frac{\\lambda_2}{\\gamma}\\Sigma^{-1}\\mathbf{\\mu} \\tag{4}$$"
   ]
  },
  {
   "cell_type": "markdown",
   "metadata": {},
   "source": [
    "$$\\gamma\\mathbf{h} = \\Sigma^{-1}\\mu + \\lambda_1\\Sigma^{-1}\\mathbf{1} + \\lambda_2\\Sigma^{-1}\\mathbf{\\mu}$$"
   ]
  },
  {
   "cell_type": "markdown",
   "metadata": {},
   "source": [
    "$$\\gamma\\mathbf{h} = \\Sigma^{-1}\\mu + \\frac{\\Delta\\gamma - \\gamma B^2 + \\mu_{0}\\gamma AB}{\\Delta}\\mathbf{w}_A + \\frac{-\\Delta - \\gamma B + \\mu_{0}A\\gamma}{\\Delta}\\Sigma^{-1}\\mathbf{\\mu}$$"
   ]
  },
  {
   "cell_type": "markdown",
   "metadata": {},
   "source": [
    "$$\\Delta\\gamma\\mathbf{h} = \\Delta\\Sigma^{-1}\\mu + (\\Delta\\gamma - \\gamma B^2 + \\mu_{0}\\gamma AB)\\mathbf{w}_A + (-\\Delta - \\gamma B + \\mu_{0}A\\gamma)\\Sigma^{-1}\\mathbf{\\mu}$$"
   ]
  },
  {
   "cell_type": "markdown",
   "metadata": {},
   "source": [
    "$$\\frac{\\Delta\\gamma}{B}\\mathbf{h} = \\Delta\\mathbf{w}_B + \\frac{\\gamma\\mathbf{w}_A}{B}(\\Delta - B^2 + \\mu_{0} AB) + \\mathbf{w}_B(-\\Delta - \\gamma B + \\mu_{0}A\\gamma)$$"
   ]
  },
  {
   "cell_type": "markdown",
   "metadata": {},
   "source": [
    "$$\\frac{\\Delta\\gamma}{B}\\mathbf{h} = \\frac{\\gamma\\mathbf{w}_A}{B}(\\Delta - B^2 + \\mu_{0} AB) + \\gamma\\mathbf{w}_B(B + \\mu_{0}A)$$"
   ]
  },
  {
   "cell_type": "markdown",
   "metadata": {},
   "source": [
    "$$\\Delta\\mathbf{h} = \\mathbf{w}_A(AC - 2B^2 + \\mu_{0} AB) + \\mathbf{w}_B(B^2 + \\mu_{0}AB)$$"
   ]
  },
  {
   "cell_type": "markdown",
   "metadata": {},
   "source": [
    "$$\\mathbf{h} = \\frac{\\mathbf{w}_A(AC - 2B^2 + \\mu_{0} AB) + \\mathbf{w}_B(B^2 + \\mu_{0}AB)}{\\Delta}$$"
   ]
  },
  {
   "cell_type": "markdown",
   "metadata": {},
   "source": [
    "><b>(b) Use your results from (a) to write $\\sigma^2_h$ as a quadratic function of $\\mu_0$ using only the parameters A, B, C and $\\Delta$. This function is known as the minimum variance frontier.</center>"
   ]
  },
  {
   "cell_type": "markdown",
   "metadata": {},
   "source": []
  },
  {
   "cell_type": "markdown",
   "metadata": {},
   "source": [
    "><b>(c) Now assume the investor actually chooses $\\mu_0$ to maximize (6), given risk aversion coefficient $\\gamma$. Use your previous results to write the optimal $\\mu_0$ as a function of the previous parameters and $\\gamma$. </b>"
   ]
  },
  {
   "cell_type": "markdown",
   "metadata": {},
   "source": []
  },
  {
   "cell_type": "markdown",
   "metadata": {},
   "source": [
    "# 3. Portfolio Optimization with a Risk-Free Asset"
   ]
  },
  {
   "cell_type": "markdown",
   "metadata": {},
   "source": [
    "><b>(a) Show that there is a so-called one-fund separation in the market in this case, in that all investors, regardless of their $\\gamma$, will hold the same stock market portfolio:</b>\n",
    "\n",
    "$$\\mathbf{w} = \\frac{1}{B - AR}\\Sigma^{-1}(\\mathbf{\\mu} - R\\mathbf{1})$$"
   ]
  },
  {
   "cell_type": "markdown",
   "metadata": {},
   "source": [
    "$$ U(\\mathbf{h}) = R + \\mathbf{h}^T(\\mu - R\\mathbf{1}) - \\frac{\\gamma}{2}\\mathbf{h}^T\\Sigma\\mathbf{h} $$"
   ]
  },
  {
   "cell_type": "markdown",
   "metadata": {},
   "source": [
    "$$ \\frac{\\partial{U}}{\\partial{h}} = \\mu - R\\mathbf{1} - \\gamma\\Sigma\\mathbf{h}  = 0$$"
   ]
  },
  {
   "cell_type": "markdown",
   "metadata": {},
   "source": [
    "$$\\gamma\\Sigma\\mathbf{h} = \\mu - R\\mathbf{1} $$"
   ]
  },
  {
   "cell_type": "code",
   "execution_count": null,
   "metadata": {},
   "outputs": [],
   "source": []
  },
  {
   "cell_type": "code",
   "execution_count": null,
   "metadata": {},
   "outputs": [],
   "source": []
  },
  {
   "cell_type": "code",
   "execution_count": null,
   "metadata": {},
   "outputs": [],
   "source": []
  },
  {
   "cell_type": "code",
   "execution_count": null,
   "metadata": {},
   "outputs": [],
   "source": []
  },
  {
   "cell_type": "code",
   "execution_count": null,
   "metadata": {},
   "outputs": [],
   "source": []
  },
  {
   "cell_type": "code",
   "execution_count": null,
   "metadata": {},
   "outputs": [],
   "source": []
  },
  {
   "cell_type": "code",
   "execution_count": null,
   "metadata": {},
   "outputs": [],
   "source": []
  },
  {
   "cell_type": "code",
   "execution_count": null,
   "metadata": {},
   "outputs": [],
   "source": []
  },
  {
   "cell_type": "code",
   "execution_count": null,
   "metadata": {},
   "outputs": [],
   "source": []
  },
  {
   "cell_type": "code",
   "execution_count": null,
   "metadata": {},
   "outputs": [],
   "source": []
  },
  {
   "cell_type": "code",
   "execution_count": null,
   "metadata": {},
   "outputs": [],
   "source": []
  },
  {
   "cell_type": "code",
   "execution_count": null,
   "metadata": {},
   "outputs": [],
   "source": []
  },
  {
   "cell_type": "code",
   "execution_count": null,
   "metadata": {},
   "outputs": [],
   "source": []
  },
  {
   "cell_type": "code",
   "execution_count": null,
   "metadata": {},
   "outputs": [],
   "source": []
  },
  {
   "cell_type": "code",
   "execution_count": null,
   "metadata": {},
   "outputs": [],
   "source": []
  },
  {
   "cell_type": "code",
   "execution_count": null,
   "metadata": {},
   "outputs": [],
   "source": []
  },
  {
   "cell_type": "code",
   "execution_count": null,
   "metadata": {},
   "outputs": [],
   "source": []
  },
  {
   "cell_type": "code",
   "execution_count": null,
   "metadata": {},
   "outputs": [],
   "source": []
  },
  {
   "cell_type": "code",
   "execution_count": null,
   "metadata": {},
   "outputs": [],
   "source": []
  }
 ],
 "metadata": {
  "kernelspec": {
   "display_name": "Python 3",
   "language": "python",
   "name": "python3"
  },
  "language_info": {
   "codemirror_mode": {
    "name": "ipython",
    "version": 3
   },
   "file_extension": ".py",
   "mimetype": "text/x-python",
   "name": "python",
   "nbconvert_exporter": "python",
   "pygments_lexer": "ipython3",
   "version": "3.6.8"
  }
 },
 "nbformat": 4,
 "nbformat_minor": 4
}
