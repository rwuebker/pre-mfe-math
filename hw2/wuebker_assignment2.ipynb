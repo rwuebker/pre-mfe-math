{
 "cells": [
  {
   "cell_type": "markdown",
   "metadata": {},
   "source": [
    "## <center> Mathematical Foundations </center>\n",
    "## <center> MFE Spring 2021 </center>\n",
    "## <center> Assignment 2 </center>\n",
    "<center>Student Name: Rick Wuebker\n",
    "<center>ID: richard_wuebker\n",
    "<center> Solved in team: No"
   ]
  },
  {
   "cell_type": "markdown",
   "metadata": {},
   "source": [
    "# 1. Stochastic Matrices\n",
    "><b>Given the below transition matrix</b>"
   ]
  },
  {
   "cell_type": "code",
   "execution_count": 1,
   "metadata": {},
   "outputs": [
    {
     "data": {
      "text/html": [
       "<div>\n",
       "<style scoped>\n",
       "    .dataframe tbody tr th:only-of-type {\n",
       "        vertical-align: middle;\n",
       "    }\n",
       "\n",
       "    .dataframe tbody tr th {\n",
       "        vertical-align: top;\n",
       "    }\n",
       "\n",
       "    .dataframe thead th {\n",
       "        text-align: right;\n",
       "    }\n",
       "</style>\n",
       "<table border=\"1\" class=\"dataframe\">\n",
       "  <thead>\n",
       "    <tr style=\"text-align: right;\">\n",
       "      <th></th>\n",
       "      <th>AAA</th>\n",
       "      <th>AA</th>\n",
       "      <th>A</th>\n",
       "      <th>BBB</th>\n",
       "      <th>BB</th>\n",
       "      <th>B</th>\n",
       "      <th>CCC</th>\n",
       "      <th>Default</th>\n",
       "    </tr>\n",
       "  </thead>\n",
       "  <tbody>\n",
       "    <tr>\n",
       "      <th>AAA</th>\n",
       "      <td>0.90788000</td>\n",
       "      <td>0.08291000</td>\n",
       "      <td>0.00716000</td>\n",
       "      <td>0.00102000</td>\n",
       "      <td>0.00102000</td>\n",
       "      <td>0.00000000</td>\n",
       "      <td>0.00000000</td>\n",
       "      <td>0.00000000</td>\n",
       "    </tr>\n",
       "    <tr>\n",
       "      <th>AA</th>\n",
       "      <td>0.00103000</td>\n",
       "      <td>0.91219000</td>\n",
       "      <td>0.07851000</td>\n",
       "      <td>0.00620000</td>\n",
       "      <td>0.00103000</td>\n",
       "      <td>0.00103000</td>\n",
       "      <td>0.00000000</td>\n",
       "      <td>0.00000000</td>\n",
       "    </tr>\n",
       "    <tr>\n",
       "      <th>A</th>\n",
       "      <td>0.00924000</td>\n",
       "      <td>0.02361000</td>\n",
       "      <td>0.90041000</td>\n",
       "      <td>0.05441000</td>\n",
       "      <td>0.00719000</td>\n",
       "      <td>0.00308000</td>\n",
       "      <td>0.00103000</td>\n",
       "      <td>0.00103000</td>\n",
       "    </tr>\n",
       "    <tr>\n",
       "      <th>BBB</th>\n",
       "      <td>0.00000000</td>\n",
       "      <td>0.00318000</td>\n",
       "      <td>0.05938000</td>\n",
       "      <td>0.86947000</td>\n",
       "      <td>0.05302000</td>\n",
       "      <td>0.01116600</td>\n",
       "      <td>0.00117000</td>\n",
       "      <td>0.00212000</td>\n",
       "    </tr>\n",
       "    <tr>\n",
       "      <th>BB</th>\n",
       "      <td>0.00000000</td>\n",
       "      <td>0.00110000</td>\n",
       "      <td>0.00659000</td>\n",
       "      <td>0.07692000</td>\n",
       "      <td>0.80549000</td>\n",
       "      <td>0.08791000</td>\n",
       "      <td>0.00989000</td>\n",
       "      <td>0.01209000</td>\n",
       "    </tr>\n",
       "    <tr>\n",
       "      <th>B</th>\n",
       "      <td>0.00000000</td>\n",
       "      <td>0.00114000</td>\n",
       "      <td>0.00227000</td>\n",
       "      <td>0.00454000</td>\n",
       "      <td>0.06470000</td>\n",
       "      <td>0.82747000</td>\n",
       "      <td>0.04086000</td>\n",
       "      <td>0.05902000</td>\n",
       "    </tr>\n",
       "    <tr>\n",
       "      <th>CCC</th>\n",
       "      <td>0.00000000</td>\n",
       "      <td>0.00000000</td>\n",
       "      <td>0.00456000</td>\n",
       "      <td>0.01251000</td>\n",
       "      <td>0.02275000</td>\n",
       "      <td>0.12856000</td>\n",
       "      <td>0.60637000</td>\n",
       "      <td>0.22526000</td>\n",
       "    </tr>\n",
       "    <tr>\n",
       "      <th>Default</th>\n",
       "      <td>0.00000000</td>\n",
       "      <td>0.00000000</td>\n",
       "      <td>0.00000000</td>\n",
       "      <td>0.00000000</td>\n",
       "      <td>0.00000000</td>\n",
       "      <td>0.00000000</td>\n",
       "      <td>0.00000000</td>\n",
       "      <td>1.00000000</td>\n",
       "    </tr>\n",
       "  </tbody>\n",
       "</table>\n",
       "</div>"
      ],
      "text/plain": [
       "               AAA         AA          A        BBB         BB          B  \\\n",
       "AAA     0.90788000 0.08291000 0.00716000 0.00102000 0.00102000 0.00000000   \n",
       "AA      0.00103000 0.91219000 0.07851000 0.00620000 0.00103000 0.00103000   \n",
       "A       0.00924000 0.02361000 0.90041000 0.05441000 0.00719000 0.00308000   \n",
       "BBB     0.00000000 0.00318000 0.05938000 0.86947000 0.05302000 0.01116600   \n",
       "BB      0.00000000 0.00110000 0.00659000 0.07692000 0.80549000 0.08791000   \n",
       "B       0.00000000 0.00114000 0.00227000 0.00454000 0.06470000 0.82747000   \n",
       "CCC     0.00000000 0.00000000 0.00456000 0.01251000 0.02275000 0.12856000   \n",
       "Default 0.00000000 0.00000000 0.00000000 0.00000000 0.00000000 0.00000000   \n",
       "\n",
       "               CCC    Default  \n",
       "AAA     0.00000000 0.00000000  \n",
       "AA      0.00000000 0.00000000  \n",
       "A       0.00103000 0.00103000  \n",
       "BBB     0.00117000 0.00212000  \n",
       "BB      0.00989000 0.01209000  \n",
       "B       0.04086000 0.05902000  \n",
       "CCC     0.60637000 0.22526000  \n",
       "Default 0.00000000 1.00000000  "
      ]
     },
     "execution_count": 1,
     "metadata": {},
     "output_type": "execute_result"
    }
   ],
   "source": [
    "import numpy as np\n",
    "import pandas as pd\n",
    "np.set_printoptions(linewidth=100)\n",
    "np.set_printoptions(suppress=True, threshold=np.inf)\n",
    "pd.set_option('display.float_format', lambda x: '%.8f' % x)\n",
    "l = [[0.90788, 0.08291, 0.00716, 0.00102, 0.00102, 0, 0, 0],\n",
    "     [0.00103, 0.91219, 0.07851, 0.00620, 0.00103, 0.00103, 0, 0],\n",
    "     [0.00924, 0.02361, 0.90041, 0.05441, 0.00719, 0.00308, 0.00103, 0.00103],\n",
    "     [0, 0.00318, 0.05938, 0.86947, 0.05302, 0.011166, 0.00117, 0.00212],\n",
    "     [0, 0.00110, 0.00659, 0.07692, 0.80549, 0.08791, 0.00989, 0.01209],\n",
    "     [0, 0.00114, 0.00227, 0.00454, 0.06470, 0.82747, 0.04086, 0.05902],\n",
    "     [0, 0, 0.00456, 0.01251, 0.02275, 0.12856, 0.60637, 0.22526],\n",
    "     [0, 0, 0, 0, 0, 0, 0, 1.0]]\n",
    "phi = np.array(l)\n",
    "ix = ['AAA', 'AA', 'A', 'BBB', 'BB', 'B', 'CCC', 'Default']\n",
    "df = pd.DataFrame(data = phi, columns=ix, index=ix)\n",
    "df"
   ]
  },
  {
   "cell_type": "markdown",
   "metadata": {},
   "source": [
    "><b>(a) What is the probability that a bond over two years moves from an AA rating to Default?</b>"
   ]
  },
  {
   "cell_type": "code",
   "execution_count": 2,
   "metadata": {},
   "outputs": [
    {
     "name": "stdout",
     "output_type": "stream",
     "text": [
      "2.1869e-05\n"
     ]
    }
   ],
   "source": [
    "phi_sq = phi.dot(phi)\n",
    "print(phi_sq[0,7])"
   ]
  },
  {
   "cell_type": "markdown",
   "metadata": {},
   "source": [
    "$$ \\Phi^2 = \\begin{bmatrix}\n",
    "0.82439765 & 0.15107542 & 0.01952391 & 0.00279497 &  0.0019386 &0.00020851& 0.00001866& 0.00002187 \\\\ \n",
    "0.0026001 & 0.83405164& 0.14269188& 0.01540298& 0.00273011& 0.00219344& 0.00014039& 0.00016725 \\\\\n",
    "0.01673292& 0.04374602& 0.81594788& 0.0970349 & 0.01540669& 0.00671822& 0.0018126 & 0.0025735 \\\\\n",
    "0.00055195& 0.00713869& 0.10572522& 0.76337229& 0.08998565& 0.0239456 & 0.0027685 & 0.00558802 \\\\\n",
    "0.00006202& 0.00238986& 0.01614041& 0.12972614& 0.65885373& 0.14570529& 0.01765208& 0.0294145 \\\\\n",
    "0.00002215& 0.00212241& 0.00489407& 0.01332257& 0.10684028& 0.6957062 & 0.05923424& 0.11785559 \\\\\n",
    "0.00004213& 0.00031903& 0.00805551& 0.02104446& 0.04113371& 0.18648815& 0.37318187& 0.36974478 \\\\\n",
    "0.        & 0.        & 0.        & 0.        & 0.        &0.        & 0.        & 1. \\\\\n",
    "\\end{bmatrix}$$"
   ]
  },
  {
   "cell_type": "markdown",
   "metadata": {},
   "source": [
    "<center>$ \\Phi^2[0,7] = 0.002187$%</center>"
   ]
  },
  {
   "cell_type": "markdown",
   "metadata": {},
   "source": [
    "><b>(b) What is the long-term (stationary) distribution, $\\mathbf{p}$, of the ratings for a corporate bond with the above transition matrix (assuming that it has a very long maturity state)?"
   ]
  },
  {
   "cell_type": "code",
   "execution_count": 3,
   "metadata": {},
   "outputs": [
    {
     "name": "stdout",
     "output_type": "stream",
     "text": [
      "converged after 1460 iterations!\n",
      "               AAA         AA          A        BBB         BB          B  \\\n",
      "AAA     0.00000000 0.00000000 0.00000001 0.00000001 0.00000000 0.00000000   \n",
      "AA      0.00000000 0.00000000 0.00000001 0.00000001 0.00000000 0.00000000   \n",
      "A       0.00000000 0.00000000 0.00000001 0.00000000 0.00000000 0.00000000   \n",
      "BBB     0.00000000 0.00000000 0.00000001 0.00000000 0.00000000 0.00000000   \n",
      "BB      0.00000000 0.00000000 0.00000000 0.00000000 0.00000000 0.00000000   \n",
      "B       0.00000000 0.00000000 0.00000000 0.00000000 0.00000000 0.00000000   \n",
      "CCC     0.00000000 0.00000000 0.00000000 0.00000000 0.00000000 0.00000000   \n",
      "Default 0.00000000 0.00000000 0.00000000 0.00000000 0.00000000 0.00000000   \n",
      "\n",
      "               CCC    Default  \n",
      "AAA     0.00000000 0.98875433  \n",
      "AA      0.00000000 0.98882510  \n",
      "A       0.00000000 0.98889601  \n",
      "BBB     0.00000000 0.98763573  \n",
      "BB      0.00000000 0.99281930  \n",
      "B       0.00000000 0.99625655  \n",
      "CCC     0.00000000 0.99786619  \n",
      "Default 0.00000000 1.00000000  \n"
     ]
    }
   ],
   "source": [
    "new_phi = phi\n",
    "converged = False\n",
    "for i in range(100000):\n",
    "    old_phi = new_phi\n",
    "    new_phi = old_phi.dot(phi)\n",
    "    if np.allclose(new_phi, old_phi, atol=1e-10): \n",
    "        print(f'converged after {i} iterations!')\n",
    "        print(pd.DataFrame(new_phi, columns=ix, index=ix))\n",
    "        converged = True\n",
    "        break\n",
    "\n",
    "if not converged:\n",
    "    print('failed to converge')\n",
    "\n",
    "    \n",
    "    "
   ]
  },
  {
   "cell_type": "markdown",
   "metadata": {},
   "source": [
    "<center>Multiplying $\\Phi$ by itself 10000 times is converging to: </center>"
   ]
  },
  {
   "cell_type": "markdown",
   "metadata": {},
   "source": [
    "$$ \\Phi^{1000} \\approx \\begin{bmatrix}\n",
    "0 & 0 & 0 & 0 & 0 & 0 & 0 & 1 \\\\\n",
    "0 & 0 & 0 & 0 & 0 & 0 & 0 & 1 \\\\\n",
    "0 & 0 & 0 & 0 & 0 & 0 & 0 & 1 \\\\\n",
    "0 & 0 & 0 & 0 & 0 & 0 & 0 & 1 \\\\\n",
    "0 & 0 & 0 & 0 & 0 & 0 & 0 & 1 \\\\\n",
    "0 & 0 & 0 & 0 & 0 & 0 & 0 & 1 \\\\\n",
    "0 & 0 & 0 & 0 & 0 & 0 & 0 & 1 \\\\\n",
    "0 & 0 & 0 & 0 & 0 & 0 & 0 & 1 \\\\\n",
    "\\end{bmatrix}\n",
    "$$"
   ]
  },
  {
   "cell_type": "markdown",
   "metadata": {},
   "source": [
    "<center>Implying that over the very long-term, according to this markov process, the probability of default is $\\approx$ 100% no matter the starting state.</center>"
   ]
  },
  {
   "cell_type": "markdown",
   "metadata": {},
   "source": [
    "$$ \\mathbf{p} = \\begin{bmatrix} 0 & 0 & 0 & 0 & 0 & 0 & 0 & 1 \\end{bmatrix}$$"
   ]
  },
  {
   "cell_type": "markdown",
   "metadata": {},
   "source": [
    "# 2. Portfolio Optimization"
   ]
  },
  {
   "cell_type": "markdown",
   "metadata": {},
   "source": [
    "$$u_0 = \\mathbf{h}^T\\mathbf{\\mu} \\tag{1}$$"
   ]
  },
  {
   "cell_type": "markdown",
   "metadata": {},
   "source": [
    "$$ \\mathbf{h}^T\\mathbf{1} = 1.00 \\tag{2}$$"
   ]
  },
  {
   "cell_type": "markdown",
   "metadata": {},
   "source": [
    "$$ U(\\mathbf{h}) = \\mathbf{h}^T\\mathbf{\\mu} - \\frac{\\gamma}{2}\\mathbf{h}^T\\Sigma\\mathbf{h} \\tag{3}$$"
   ]
  },
  {
   "cell_type": "markdown",
   "metadata": {},
   "source": [
    "$$A = \\mathbf{1}^T\\Sigma^{-1}\\mathbf{1} \\;\\;\\;\\;\\;\\;\\;B=\\mathbf{1}^T\\Sigma^{-1}\\mu\\;\\;\\;\\;\\;\\;C = \\mathbf{\\mu}^T\\Sigma^{-1}\\mathbf{\\mu} \\;\\;\\;\\;\\;\\;\\; \\Delta = AC - B^2 > 0 \\;\\;\\;\\;\\;\\;\\; \\mathbf{w_A} = \\frac{1}{A}\\Sigma^{-1}\\mathbf{1} \\;\\;\\;\\;\\;\\;\\; \\mathbf{w_B} = \\frac{1}{B}\\Sigma^{-1}\\mathbf{\\mu}$$"
   ]
  },
  {
   "cell_type": "markdown",
   "metadata": {},
   "source": [
    "><b>(a) Derive a formula for the optimal portfolio, $\\mathbf{h}$, satisfying (1) and (2) and maximizing (3). Express the formula as a function of A, B, C, $\\Delta$, $\\mu_0$, $w_A$ and $w_B$</b>"
   ]
  },
  {
   "cell_type": "markdown",
   "metadata": {},
   "source": [
    "$$L(\\mathbf{h}, \\lambda_1, \\lambda_2) = \\mathbf{h}^T\\mu - \\frac{\\gamma}{2}\\mathbf{h}^T\\Sigma\\mathbf{h} + \\lambda_1(\\mathbf{h}^T\\mathbf{1} - 1) + \\lambda_2(\\mathbf{h}^T\\mu - \\mu_0)$$"
   ]
  },
  {
   "cell_type": "markdown",
   "metadata": {},
   "source": [
    "$$\\frac{\\partial{L}}{\\partial{\\mathbf{h}}} = \\mu - \\gamma\\Sigma\\mathbf{h} + \\lambda_1\\mathbf{1} + \\lambda_2\\mathbf{\\mu}$$"
   ]
  },
  {
   "cell_type": "markdown",
   "metadata": {},
   "source": [
    "$$ \\mu - \\gamma\\Sigma\\mathbf{h} + \\lambda_1\\mathbf{1} + \\lambda_2\\mathbf{\\mu} = \\mathbf{0}$$"
   ]
  },
  {
   "cell_type": "markdown",
   "metadata": {},
   "source": [
    "$$- \\gamma\\Sigma\\mathbf{h} = -\\mu -\\lambda_1\\mathbf{1} - \\lambda_2\\mathbf{\\mu} $$"
   ]
  },
  {
   "cell_type": "markdown",
   "metadata": {},
   "source": [
    "$$\\Sigma\\mathbf{h} = \\frac{1}{\\gamma}\\mu + \\frac{\\lambda_1}{\\gamma}\\mathbf{1} + \\frac{\\lambda_2}{\\gamma}\\mathbf{\\mu} $$"
   ]
  },
  {
   "cell_type": "markdown",
   "metadata": {},
   "source": [
    "$$\\Sigma^{-1}\\Sigma\\mathbf{h} = \\frac{1}{\\gamma}\\Sigma^{-1}\\mu + \\frac{\\lambda_1}{\\gamma}\\Sigma^{-1}\\mathbf{1} + \\frac{\\lambda_2}{\\gamma}\\Sigma^{-1}\\mathbf{\\mu} $$"
   ]
  },
  {
   "cell_type": "markdown",
   "metadata": {},
   "source": [
    "$$\\mathbf{h} = \\frac{1}{\\gamma}\\Sigma^{-1}\\mu + \\frac{\\lambda_1}{\\gamma}\\Sigma^{-1}\\mathbf{1} + \\frac{\\lambda_2}{\\gamma}\\Sigma^{-1}\\mathbf{\\mu} \\tag{4}$$"
   ]
  },
  {
   "cell_type": "markdown",
   "metadata": {},
   "source": [
    "<center>Will solve the two below equations for $\\lambda_1$ and $\\lambda_2$</center>"
   ]
  },
  {
   "cell_type": "markdown",
   "metadata": {},
   "source": [
    "$$\\mathbf{1}^T\\mathbf{h} = \\frac{1}{\\gamma}\\mathbf{1}^T\\Sigma^{-1}\\mu + \\frac{\\lambda_1}{\\gamma}\\mathbf{1}^T\\Sigma^{-1}\\mathbf{1} + \\frac{\\lambda_2}{\\gamma}\\mathbf{1}^T\\Sigma^{-1}\\mathbf{\\mu} = 1 \\;\\;\\;\\;\\;\\;\\;\\;\\;\\; \\mathbf{\\mu}^T\\mathbf{h} = \\frac{1}{\\gamma}\\mathbf{\\mu}^T\\Sigma^{-1}\\mu + \\frac{\\lambda_1}{\\gamma}\\mathbf{\\mu}^T\\Sigma^{-1}\\mathbf{1} + \\frac{\\lambda_2}{\\gamma}\\mathbf{\\mu}^T\\Sigma^{-1}\\mathbf{\\mu} = \\mu_{0}$$ "
   ]
  },
  {
   "cell_type": "markdown",
   "metadata": {},
   "source": [
    "$$\\frac{1}{\\gamma}\\mathbf{1}^T\\Sigma^{-1}\\mu + \\frac{\\lambda_1}{\\gamma}\\mathbf{1}^T\\Sigma^{-1}\\mathbf{1} + \\frac{\\lambda_2}{\\gamma}\\mathbf{1}^T\\Sigma^{-1}\\mathbf{\\mu} = 1 $$"
   ]
  },
  {
   "cell_type": "markdown",
   "metadata": {},
   "source": [
    "$$B + \\lambda_1A + \\lambda_2B = \\gamma $$"
   ]
  },
  {
   "cell_type": "markdown",
   "metadata": {},
   "source": [
    "$$\\lambda_1A  = \\gamma - B - \\lambda_2B $$"
   ]
  },
  {
   "cell_type": "markdown",
   "metadata": {},
   "source": [
    "$$\\lambda_1  = \\frac{\\gamma - B - B\\lambda_2}{A} \\tag{5}$$"
   ]
  },
  {
   "cell_type": "markdown",
   "metadata": {},
   "source": [
    "<center>Plugging this result into the second equation above</center>"
   ]
  },
  {
   "cell_type": "markdown",
   "metadata": {},
   "source": [
    "$$\\frac{1}{\\gamma}\\mathbf{\\mu}^T\\Sigma^{-1}\\mu + \\frac{\\lambda_1}{\\gamma}\\mathbf{\\mu}^T\\Sigma^{-1}\\mathbf{1} + \\frac{\\lambda_2}{\\gamma}\\mathbf{\\mu}^T\\Sigma^{-1}\\mathbf{\\mu} = \\mu_{0}$$ "
   ]
  },
  {
   "cell_type": "markdown",
   "metadata": {},
   "source": [
    "$$\\frac{1}{\\gamma}C + \\bigg(\\frac{\\gamma - B - B\\lambda_2}{A}\\bigg)\\bigg(\\frac{\\mathbf{\\mu}^T\\Sigma^{-1}\\mathbf{1}}{\\gamma}\\bigg) + \\frac{\\lambda_2}{\\gamma}C = \\mu_{0}$$"
   ]
  },
  {
   "cell_type": "markdown",
   "metadata": {},
   "source": [
    "<center>Note: since $\\Sigma$ is symmetric, $\\Sigma^{-1}$ is also symmetric $\\implies \\mu^T\\Sigma^{-1}\\mathbf{1} = \\mathbf{1}^T\\Sigma^{-1}\\mathbf{\\mu} = B$"
   ]
  },
  {
   "cell_type": "markdown",
   "metadata": {},
   "source": [
    "$$\\frac{1}{\\gamma}C + \\bigg(\\frac{\\gamma - B - B\\lambda_2}{A}\\bigg)\\bigg(\\frac{B}{\\gamma}\\bigg) + \\frac{\\lambda_2}{\\gamma}C = \\mu_{0}$$"
   ]
  },
  {
   "cell_type": "markdown",
   "metadata": {},
   "source": [
    "$$AC + B\\gamma - B^2 - \\lambda_2B^2 + \\lambda_2AC = \\mu_{0}A\\gamma$$"
   ]
  },
  {
   "cell_type": "markdown",
   "metadata": {},
   "source": [
    "$$ \\lambda_2(AC-B^2) = \\mu_{0}A\\gamma - AC - B\\gamma + B^2$$"
   ]
  },
  {
   "cell_type": "markdown",
   "metadata": {},
   "source": [
    "$$ \\lambda_2= \\frac{\\mu_{0}A\\gamma - AC - B\\gamma + B^2}{\\Delta}$$"
   ]
  },
  {
   "cell_type": "markdown",
   "metadata": {},
   "source": [
    "<center>Plugging $\\lambda_2$ into (5) above.</center>"
   ]
  },
  {
   "cell_type": "markdown",
   "metadata": {},
   "source": [
    "$$\\lambda_1  = \\frac{1}{A}(\\gamma - B - B\\lambda_2) \\tag{5}$$"
   ]
  },
  {
   "cell_type": "markdown",
   "metadata": {},
   "source": [
    "$$\\lambda_1  = \\frac{1}{A}\\bigg[\\gamma - B - B\\bigg(\\frac{\\mu_{0}A\\gamma - AC - B\\gamma + B^2}{\\Delta}\\bigg)\\bigg]$$"
   ]
  },
  {
   "cell_type": "markdown",
   "metadata": {},
   "source": [
    "$$A\\Delta\\lambda_1  = \\Delta\\gamma -\\Delta B - B(\\mu_{0}A\\gamma - AC - B\\gamma + B^2)$$"
   ]
  },
  {
   "cell_type": "markdown",
   "metadata": {},
   "source": [
    "$$A\\Delta\\lambda_1  = \\Delta\\gamma -\\Delta B - \\mu_{0}\\gamma AB + ABC + \\gamma B^2 -B^3$$"
   ]
  },
  {
   "cell_type": "markdown",
   "metadata": {},
   "source": [
    "$$\\lambda_1  = \\frac{\\Delta\\gamma -\\Delta B - \\mu_{0}\\gamma AB + ABC + \\gamma B^2 -B^3}{A\\Delta}$$"
   ]
  },
  {
   "cell_type": "markdown",
   "metadata": {},
   "source": [
    "$$\\lambda_1  = \\frac{\\Delta\\gamma - \\gamma B^2 + \\mu_{0}\\gamma AB}{A\\Delta}$$"
   ]
  },
  {
   "cell_type": "markdown",
   "metadata": {},
   "source": [
    "<center>Now plugging $\\lambda_1$ and $\\lambda_2$ back into (4)</center>"
   ]
  },
  {
   "cell_type": "markdown",
   "metadata": {},
   "source": [
    "$$\\mathbf{h} = \\frac{1}{\\gamma}\\Sigma^{-1}\\mu + \\frac{\\lambda_1}{\\gamma}\\Sigma^{-1}\\mathbf{1} + \\frac{\\lambda_2}{\\gamma}\\Sigma^{-1}\\mathbf{\\mu} \\tag{4}$$"
   ]
  },
  {
   "cell_type": "markdown",
   "metadata": {},
   "source": [
    "$$\\gamma\\mathbf{h} = \\Sigma^{-1}\\mu + \\lambda_1\\Sigma^{-1}\\mathbf{1} + \\lambda_2\\Sigma^{-1}\\mathbf{\\mu}$$"
   ]
  },
  {
   "cell_type": "markdown",
   "metadata": {},
   "source": [
    "$$\\gamma\\mathbf{h} = \\Sigma^{-1}\\mu + \\frac{\\Delta\\gamma -\\Delta B - \\mu_{0}\\gamma AB + ABC + \\gamma B^2 -B^3}{\\Delta}\\mathbf{w}_A + \\frac{\\mu_{0}A\\gamma - AC - B\\gamma + B^2}{\\Delta}\\Sigma^{-1}\\mathbf{\\mu}$$"
   ]
  },
  {
   "cell_type": "markdown",
   "metadata": {},
   "source": [
    "$$\\Delta\\gamma\\mathbf{h} = \\Delta\\Sigma^{-1}\\mu + (\\Delta\\gamma -\\Delta B - \\mu_{0}\\gamma AB + ABC + \\gamma B^2 -B^3)\\mathbf{w}_A + (\\mu_{0}A\\gamma - AC - B\\gamma + B^2)\\Sigma^{-1}\\mathbf{\\mu}$$"
   ]
  },
  {
   "cell_type": "markdown",
   "metadata": {},
   "source": [
    "$$\\Delta\\gamma\\mathbf{h} = \\Delta\\Sigma^{-1}\\mu + ((AC-B^2)\\gamma - B(AC-B^2) - \\mu_{0}\\gamma AB + ABC + \\gamma B^2 -B^3)\\mathbf{w}_A + (\\mu_{0}A\\gamma - AC - B\\gamma + B^2)\\Sigma^{-1}\\mathbf{\\mu}$$"
   ]
  },
  {
   "cell_type": "markdown",
   "metadata": {},
   "source": [
    "$$\\Delta\\gamma\\mathbf{h} = \\Delta\\Sigma^{-1}\\mu + (\\gamma AC - \\mu_{0}\\gamma AB)\\mathbf{w}_A + (\\mu_{0}A\\gamma -\\Delta - B\\gamma)\\Sigma^{-1}\\mathbf{\\mu}$$"
   ]
  },
  {
   "cell_type": "markdown",
   "metadata": {},
   "source": [
    "$$\\frac{\\Delta\\gamma}{B}\\mathbf{h} = \\Delta\\mathbf{w}_B + \\frac{\\gamma\\mathbf{w}_A}{B}(AC - \\mu_{0} AB) + \\mathbf{w}_B(-\\Delta - \\gamma B + \\mu_{0}A\\gamma)$$"
   ]
  },
  {
   "cell_type": "markdown",
   "metadata": {},
   "source": [
    "$$\\frac{\\Delta\\gamma}{B}\\mathbf{h} = \\frac{\\gamma\\mathbf{w}_A}{B}(AC - \\mu_{0} AB) + \\gamma\\mathbf{w}_B(\\mu_{0}A - B)$$"
   ]
  },
  {
   "cell_type": "markdown",
   "metadata": {},
   "source": [
    "$$\\mathbf{h} = \\mathbf{w}_A\\frac{(AC - \\mu_{0} AB)}{\\Delta} + \\mathbf{w}_B\\frac{(\\mu_{0}AB - B^2)}{\\Delta}$$"
   ]
  },
  {
   "cell_type": "markdown",
   "metadata": {},
   "source": [
    "><b>(b) Use your results from (a) to write $\\sigma^2_h$ as a quadratic function of $\\mu_0$ using only the parameters A, B, C and $\\Delta$. This function is known as the minimum variance frontier.</center>"
   ]
  },
  {
   "cell_type": "markdown",
   "metadata": {},
   "source": [
    "$$ \\sigma^2_h = \\mathbf{h}^T\\Sigma\\mathbf{h} $$"
   ]
  },
  {
   "cell_type": "markdown",
   "metadata": {},
   "source": [
    "$$ \\sigma^2_h = \\bigg[\\mathbf{w}_A\\frac{(AC - \\mu_{0} AB)}{\\Delta} + \\mathbf{w}_B\\frac{(\\mu_{0}AB - B^2)}{\\Delta}\\bigg]^T \\Sigma \\bigg[\\mathbf{w}_A\\frac{(AC - \\mu_{0} AB)}{\\Delta} + \\mathbf{w}_B\\frac{(\\mu_{0}AB - B^2)}{\\Delta}\\bigg]$$"
   ]
  },
  {
   "cell_type": "markdown",
   "metadata": {},
   "source": [
    "$$ \\sigma^2_h = \\bigg[\\mathbf{w}_A\\frac{(AC - \\mu_{0} AB)}{\\Delta} + \\mathbf{w}_B\\frac{(\\mu_{0}AB - B^2)}{\\Delta}\\bigg]^T \\Sigma \\bigg[\\Sigma^{-1}\\mathbf{1}\\frac{(AC - \\mu_{0} AB)}{A\\Delta} + \\Sigma^{-1}\\mathbf{1}\\frac{(\\mu_{0}AB - B^2)}{B\\Delta}\\bigg]$$"
   ]
  },
  {
   "cell_type": "markdown",
   "metadata": {},
   "source": [
    "$$ \\sigma^2_h = \\bigg[\\mathbf{w}_A\\frac{(AC - \\mu_{0} AB)}{\\Delta} + \\mathbf{w}_B\\frac{(\\mu_{0}AB - B^2)}{\\Delta}\\bigg]^T \\bigg[\\mathbf{1}\\frac{(AC - \\mu_{0} AB)}{A\\Delta} + \\overrightarrow{\\mu}\\frac{(\\mu_{0}AB - B^2)}{B\\Delta}\\bigg]$$"
   ]
  },
  {
   "cell_type": "markdown",
   "metadata": {},
   "source": [
    "$$ \\sigma^2_h = \\Bigg[\\bigg[\\Sigma^{-1}\\mathbf{1}\\frac{(AC - \\mu_{0} AB)}{A\\Delta}\\bigg]^T + \\bigg[\\Sigma^{-1}\\overrightarrow{\\mu}\\frac{(\\mu_{0}AB - B^2)}{B\\Delta}\\bigg]^T\\Bigg] \\bigg[\\mathbf{1}\\frac{(AC - \\mu_{0} AB)}{A\\Delta} + \\overrightarrow{\\mu}\\frac{(\\mu_{0}AB - B^2)}{B\\Delta}\\bigg]$$"
   ]
  },
  {
   "cell_type": "markdown",
   "metadata": {},
   "source": [
    "$$ \\sigma^2_h = \\Bigg[\\bigg[\\mathbf{1}^T \\Sigma^{-1^T} \\frac{(AC - \\mu_{0} AB)}{A\\Delta}\\bigg] + \\bigg[\\overrightarrow{\\mu}^T\\Sigma^{-1^T}\\frac{(\\mu_{0}AB - B^2)}{B\\Delta}\\bigg]\\Bigg] \\bigg[\\mathbf{1}\\frac{(AC - \\mu_{0} AB)}{A\\Delta} + \\overrightarrow{\\mu}\\frac{(\\mu_{0}AB - B^2)}{B\\Delta}\\bigg]$$"
   ]
  },
  {
   "cell_type": "markdown",
   "metadata": {},
   "source": [
    "$$ \\sigma^2_h = \\mathbf{1}^T \\Sigma^{-1^T}\\mathbf{1}\\frac{(AC - \\mu_{0} AB)^2}{(A\\Delta)^2} + \n",
    "\\mathbf{1}^T \\Sigma^{-1^T}\\overrightarrow{\\mu}\\frac{(AC - \\mu_{0} AB)(\\mu_{0}AB - B^2)}{AB\\Delta^2} + \n",
    "\\overrightarrow{\\mu}^T\\Sigma^{-1^T}\\mathbf{1}\\frac{(\\mu_0 AB - B^2)(AC - \\mu_0 AB)}{AB\\Delta^2} +\n",
    "\\overrightarrow{\\mu}^T\\Sigma^{-1^T}\\overrightarrow{\\mu}\\frac{(\\mu_0 AB - B^2)^2}{(B\\Delta)^2}\n",
    "$$"
   ]
  },
  {
   "cell_type": "markdown",
   "metadata": {},
   "source": [
    "$$ \\sigma^2_h = A\\frac{(AC - \\mu_{0} AB)^2}{(A\\Delta)^2} + \n",
    "B\\frac{(AC - \\mu_{0} AB)(\\mu_{0}AB - B^2)}{AB\\Delta^2} + \n",
    "B\\frac{(\\mu_0 AB - B^2)(AC - \\mu_0 AB)}{AB\\Delta^2} +\n",
    "C\\frac{(\\mu_0 AB - B^2)^2}{(B\\Delta)^2}\n",
    "$$"
   ]
  },
  {
   "cell_type": "markdown",
   "metadata": {},
   "source": [
    "$$ \\sigma^2_h = \\frac{(AC - \\mu_{0} AB)^2}{A\\Delta^2} + \n",
    "2\\frac{(AC - \\mu_{0} AB)(\\mu_{0}AB - B^2)}{A\\Delta^2} + \n",
    "C\\frac{(\\mu_0 AB - B^2)^2}{(B\\Delta)^2}\n",
    "$$"
   ]
  },
  {
   "cell_type": "markdown",
   "metadata": {},
   "source": [
    "$$ \\sigma^2_h = \n",
    "\\frac{A^2C^2 -2A^2BC\\mu_0 + \\mu_0^2A^2B^2}{A\\Delta^2} + \n",
    "\\frac{2A^2BC\\mu_0 - 2\\mu_0^2A^2B^2 - 2ACB^2 +2AB^3\\mu_0}{A\\Delta^2} + \n",
    "\\frac{A^2B^2C\\mu_0^2 - 2AB^3C\\mu_0 + B^4C}{(B\\Delta)^2}\n",
    "$$"
   ]
  },
  {
   "cell_type": "markdown",
   "metadata": {},
   "source": [
    "$$ \\sigma^2_h = \n",
    "\\frac{AC^2 -2ABC\\mu_0 + \\mu_0^2AB^2}{\\Delta^2} + \n",
    "\\frac{2ABC\\mu_0 - 2\\mu_0^2AB^2 - 2CB^2 +2B^3\\mu_0}{\\Delta^2} + \n",
    "\\frac{A^2C\\mu_0^2 - 2ABC\\mu_0 + B^2C}{\\Delta^2}\n",
    "$$"
   ]
  },
  {
   "cell_type": "markdown",
   "metadata": {},
   "source": [
    "$$ \\sigma^2_h = \n",
    "\\frac{(A^2C - AB^2)}{\\Delta^2}\\mu_0^2 + \\frac{2B^3 - 2ABC}{\\Delta^2}\\mu_0 + \\frac{AC^2 - B^2C}{\\Delta^2}\n",
    "$$"
   ]
  },
  {
   "cell_type": "markdown",
   "metadata": {},
   "source": [
    "$$ \\sigma^2_h = \n",
    "A\\frac{(AC - B^2)}{\\Delta^2}\\mu_0^2 + 2B\\frac{B^2 - AC}{\\Delta^2}\\mu_0 + C\\frac{AC - B^2}{\\Delta^2}\n",
    "$$"
   ]
  },
  {
   "cell_type": "markdown",
   "metadata": {},
   "source": [
    "$$ \\sigma^2_h = \n",
    "\\frac{A}{\\Delta}\\mu_0^2 - \\frac{2B}{\\Delta}\\mu_0 + \\frac{C}{\\Delta}\n",
    "$$"
   ]
  },
  {
   "cell_type": "markdown",
   "metadata": {},
   "source": [
    "><b>(c) Now assume the investor actually chooses $\\mu_0$ to maximize (6), given risk aversion coefficient $\\gamma$. Use your previous results to write the optimal $\\mu_0$ as a function of the previous parameters and $\\gamma$. </b>"
   ]
  },
  {
   "cell_type": "markdown",
   "metadata": {},
   "source": [
    "$$U(\\mathbf{h}) = \\mu_0 - \\frac{\\gamma}{2}\\sigma_{\\mathbf{h}}^2$$"
   ]
  },
  {
   "cell_type": "markdown",
   "metadata": {},
   "source": [
    "$$U(\\mathbf{h}) = \\mu_0 - \\frac{\\gamma}{2}\\bigg(\\frac{A}{\\Delta}\\mu_0^2 - \\frac{2B}{\\Delta}\\mu_0 + \\frac{C}{\\Delta}\\bigg)$$"
   ]
  },
  {
   "cell_type": "markdown",
   "metadata": {},
   "source": [
    "$$\\frac{\\partial{U}}{\\partial{\\mu_0}} = 1 - \\frac{\\gamma}{2}\\bigg(\\frac{2A}{\\Delta}\\mu_0 - \\frac{2B}{\\Delta}\\bigg) = 0$$"
   ]
  },
  {
   "cell_type": "markdown",
   "metadata": {},
   "source": [
    "$$\\frac{\\gamma}{2}\\bigg(\\frac{2A}{\\Delta}\\mu_0 - \\frac{2B}{\\Delta}\\bigg) = 1$$"
   ]
  },
  {
   "cell_type": "markdown",
   "metadata": {},
   "source": [
    "$$\\frac{\\gamma A}{\\Delta}\\mu_0 - \\frac{\\gamma B}{\\Delta} = 1$$"
   ]
  },
  {
   "cell_type": "markdown",
   "metadata": {},
   "source": [
    "$$\\frac{\\gamma A}{\\Delta}\\mu_0  = 1 + \\frac{\\gamma B}{\\Delta}$$"
   ]
  },
  {
   "cell_type": "markdown",
   "metadata": {},
   "source": [
    "$$\\mu_0  = \\frac{\\Delta}{\\gamma A} + \\frac{\\gamma B}{\\gamma A} = \\frac{\\Delta + \\gamma B}{\\gamma A}$$"
   ]
  },
  {
   "cell_type": "markdown",
   "metadata": {},
   "source": [
    "# 3. Portfolio Optimization with a Risk-Free Asset"
   ]
  },
  {
   "cell_type": "markdown",
   "metadata": {},
   "source": [
    "><b>(a) Show that there is a so-called one-fund separation in the market in this case, in that all investors, regardless of their $\\gamma$, will hold the same stock market portfolio:</b>\n",
    "\n",
    "$$\\mathbf{w} = \\frac{1}{B - AR}\\Sigma^{-1}(\\mathbf{\\mu} - R\\mathbf{1})$$"
   ]
  },
  {
   "cell_type": "markdown",
   "metadata": {},
   "source": [
    "$$ U(\\mathbf{h}) = R + \\mathbf{h}^T(\\mu - R\\mathbf{1}) - \\frac{\\gamma}{2}\\mathbf{h}^T\\Sigma\\mathbf{h} $$"
   ]
  },
  {
   "cell_type": "markdown",
   "metadata": {},
   "source": [
    "$$ \\frac{\\partial{U}}{\\partial{h}} = \\mu - R\\mathbf{1} - \\gamma\\Sigma\\mathbf{h}  = 0$$"
   ]
  },
  {
   "cell_type": "markdown",
   "metadata": {},
   "source": [
    "$$\\gamma\\Sigma\\mathbf{h} = \\mu - R\\mathbf{1} $$"
   ]
  },
  {
   "cell_type": "markdown",
   "metadata": {},
   "source": [
    "$$\\mathbf{h} = \\frac{1}{\\gamma}\\Sigma^{-1}(\\mu - R\\mathbf{1}) $$"
   ]
  },
  {
   "cell_type": "markdown",
   "metadata": {},
   "source": [
    "<center>Let $w = $ the stock market portfolio.</center> "
   ]
  },
  {
   "cell_type": "markdown",
   "metadata": {},
   "source": [
    "$$ w = \\frac{\\mathbf{h}}{\\mathbf{1}^T\\mathbf{h}} = \\frac{\\Sigma^{-1}(\\mu - R\\mathbf{1})}{\\mathbf{1}^T\\Sigma^{-1}(\\mu - R\\mathbf{1})} = \n",
    " \\frac{\\Sigma^{-1}(\\mu - R\\mathbf{1})}{\\mathbf{1}^T\\Sigma^{-1}\\mu - R\\mathbf{1}^T\\Sigma^{-1}\\mathbf{1}} = \n",
    "  \\frac{\\Sigma^{-1}(\\mu - R\\mathbf{1})}{B - AR}\n",
    "$$"
   ]
  },
  {
   "cell_type": "markdown",
   "metadata": {},
   "source": [
    "><b>(b) What is the relationship between an investor's $\\gamma$ and the expected return of the chosen portfolio (including the bond) in this case?</b>"
   ]
  },
  {
   "cell_type": "markdown",
   "metadata": {},
   "source": [
    "$$\\lim_{\\gamma \\to \\infty} \\mathbf{h} = \\lim_{\\gamma \\to \\infty} \\frac{1}{\\gamma} \\Sigma^{-1}(\\mu - R\\mathbf{1}) = 0$$"
   ]
  },
  {
   "cell_type": "markdown",
   "metadata": {},
   "source": [
    "$$ \\lim_{\\mathbf{h} \\to 0} R + \\mathbf{h}^T(\\mu - R\\mathbf{1}) = R$$"
   ]
  },
  {
   "cell_type": "markdown",
   "metadata": {},
   "source": [
    "<center>As gamma gets larger the weights on the stock portfolio get smaller driving the expected return to R</center>"
   ]
  },
  {
   "cell_type": "markdown",
   "metadata": {},
   "source": [
    "<center>Conversley if $\\gamma$ goes to zero the weights on the stock portfolio will get larger and the expected return will be driven by the expected returns of the stocks in the portfolio thus giving the portfolio greater and greater risk.</center>"
   ]
  },
  {
   "cell_type": "markdown",
   "metadata": {},
   "source": [
    "# 4. The Capital Asset Pricing Model (CAPM): "
   ]
  },
  {
   "cell_type": "markdown",
   "metadata": {},
   "source": [
    "><b>(a) Using the below, show that CAPM relationship holds.</b>"
   ]
  },
  {
   "cell_type": "markdown",
   "metadata": {},
   "source": [
    "$$ \\mu_n - R = \\beta_n(\\mu_{market} - R) \\;\\;\\;\\;\\;\\;\\;\\;\\; \\beta_n = \\frac{Cov(\\tilde{\\mu}_n, \\tilde{\\mu}_{market})}{\\sigma^2_{market}} \\;\\;\\;\\;\\;\\;\\;\\;\\; \\beta = \\frac{1}{\\mathbf{w}^T \\Sigma \\mathbf{w}} \\Sigma \\mathbf{w}$$"
   ]
  },
  {
   "cell_type": "markdown",
   "metadata": {},
   "source": [
    "$$ \\mathbf{w} = \\frac{1}{B-AR}\\Sigma^{-1}(\\mathbf{\\mu} - R\\mathbf{1}) \\tag{11}$$"
   ]
  },
  {
   "cell_type": "markdown",
   "metadata": {},
   "source": [
    "$$ (B-AR) \\Sigma \\mathbf{w} = \\Sigma \\Sigma^{-1}(\\mathbf{\\mu} - R\\mathbf{1}) $$"
   ]
  },
  {
   "cell_type": "markdown",
   "metadata": {},
   "source": [
    "$$ (B-AR) \\Sigma \\mathbf{w} = \\mathbf{\\mu} - R\\mathbf{1} \\tag{12}$$"
   ]
  },
  {
   "cell_type": "markdown",
   "metadata": {},
   "source": [
    "$$ (B-AR) \\beta \\mathbf{w}^T \\Sigma \\mathbf{w} = \\beta \\mathbf{w}^T (\\mathbf{\\mu} - R\\mathbf{1}) $$"
   ]
  },
  {
   "cell_type": "markdown",
   "metadata": {},
   "source": [
    "$$ (B-AR) \\frac{\\Sigma \\mathbf{w}}{\\mathbf{w}^T \\Sigma \\mathbf{w}} \\mathbf{w}^T \\Sigma \\mathbf{w} = \\beta \\mathbf{w}^T (\\mathbf{\\mu} - R\\mathbf{1}) $$"
   ]
  },
  {
   "cell_type": "markdown",
   "metadata": {},
   "source": [
    "$$ (B-AR) \\Sigma \\mathbf{w} = \\beta \\mathbf{w}^T (\\mathbf{\\mu} - R\\mathbf{1}) $$"
   ]
  },
  {
   "cell_type": "markdown",
   "metadata": {},
   "source": [
    "$$ \\mathbf{\\mu} - R\\mathbf{1} = \\beta \\mathbf{w}^T (\\mathbf{\\mu} - R\\mathbf{1}) \\because (12)$$"
   ]
  },
  {
   "cell_type": "code",
   "execution_count": null,
   "metadata": {},
   "outputs": [],
   "source": []
  }
 ],
 "metadata": {
  "kernelspec": {
   "display_name": "Python 3",
   "language": "python",
   "name": "python3"
  },
  "language_info": {
   "codemirror_mode": {
    "name": "ipython",
    "version": 3
   },
   "file_extension": ".py",
   "mimetype": "text/x-python",
   "name": "python",
   "nbconvert_exporter": "python",
   "pygments_lexer": "ipython3",
   "version": "3.6.8"
  }
 },
 "nbformat": 4,
 "nbformat_minor": 4
}
