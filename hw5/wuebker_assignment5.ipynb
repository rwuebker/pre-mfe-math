{
 "cells": [
  {
   "cell_type": "markdown",
   "metadata": {},
   "source": [
    "## <center> Mathematical Foundations </center>\n",
    "## <center> MFE Spring 2021 </center>\n",
    "## <center> Assignment 5 </center>\n",
    "<center>Student Name: Rick Wuebker\n",
    "<center>ID: richard_wuebker\n",
    "<center> Solved in team: No"
   ]
  },
  {
   "cell_type": "markdown",
   "metadata": {},
   "source": [
    "# 1. Probability Spaces\n",
    "><b>Consider the state space $\\Omega = \\{\\omega_1, \\omega_2, \\omega_3, \\omega_4\\}$, with the associated $\\sigma$-algebra $\\mathcal{F} = 2^{\\Omega}$, and probability measures $\\mathbb{P}$ and $\\mathbb{Q}$ defined by: </b>"
   ]
  },
  {
   "cell_type": "markdown",
   "metadata": {},
   "source": [
    "\\begin{array}{c|cccc}\n",
    "i & 1 & 2 & 3 & 4 \\\\\n",
    "\\hline\n",
    "\\mathbb{Q}(\\omega_i) & 0.1 & 0 & 0.5 & 0.4 \\\\\n",
    "\\mathbb{P}(\\omega_i) & 0.4 & 0.1 & 0.1 & 0.4\n",
    "\\end{array}"
   ]
  },
  {
   "cell_type": "markdown",
   "metadata": {},
   "source": [
    "><b>(a) Are $\\mathbb{P}$ and $\\mathbb{P}$ equivalent probability measures?</b>"
   ]
  },
  {
   "cell_type": "markdown",
   "metadata": {},
   "source": [
    "No, $\\mathbb{P}$ and $\\mathbb{Q}$ are not equivalent because they disagree on which events have 0 probability, specifically $\\mathbb{Q}(\\omega_{2}) = 0$ however $\\mathbb{P}(\\omega_2) = 0.1$."
   ]
  },
  {
   "cell_type": "markdown",
   "metadata": {},
   "source": [
    "><b>What is the Radon-Nikodym derivative $\\frac{d \\mathbb{Q}}{d \\mathbb{P}}$?"
   ]
  },
  {
   "cell_type": "markdown",
   "metadata": {},
   "source": [
    "\\begin{matrix}\n",
    "L(\\{\\emptyset\\}) = 0 & L(\\{\\omega_1\\}) = \\frac{0.1}{0.4} = 0.25 \\\\\n",
    "L(\\{\\omega_2\\}) = \\frac{0}{0.1} = 0 & L(\\{\\omega_3\\}) = \\frac{0.5}{0.1} = 5 \\\\\n",
    "L(\\{\\omega_4\\}) = \\frac{0.4}{0.4} = 1.00 & L(\\{\\omega_1, \\omega_2\\}) = \\frac{0.1 + 0.0}{0.4 + 0.1} = 0.2 \\\\\n",
    "L(\\{\\omega_1, \\omega_3 \\}) = \\frac{0.1 + 0.5}{0.4 + 0.1} = 1.2  & L(\\{\\omega_1, \\omega_4\\}) = \\frac{0.1 + 0.4}{0.4 + 0.4} = 0.625 \\\\\n",
    "L(\\{\\omega_2, \\omega_3\\}) = \\frac{0.0 + 0.5}{0.1 + 0.1} = 2.5 & L(\\{\\omega_2, \\omega_4\\}) = \\frac{0.0 + 0.4}{0.1 + 0.4} = 0.8 \\\\\n",
    "L(\\{\\omega_3, \\omega_4\\}) = \\frac{0.5 + 0.4}{0.1 + 0.4} = 1.80 & L(\\{\\omega_1, \\omega_2, \\omega_3\\}) = \\frac{0.1 + 0.0 + 0.5}{0.4 + 0.1 + 0.4} = 1.00 \\\\\n",
    "L(\\{\\omega_1, \\omega_2, \\omega_4\\}) =  \\frac{0.1 + 0.0 + 0.4}{0.4 + 0.1 + 0.4} = 0.556 & L(\\{\\omega_1, \\omega_3, \\omega_4\\}) = \\frac{0.1 + 0.5 + 0.4}{0.4 + 0.1 + 0.4} = 1.111 \\\\\n",
    "L(\\{\\omega_2, \\omega_3, \\omega_4\\}) = \\frac{0 + 0.5 + 0.4}{0.1 + 0.1 + 0.4} = 1.5 & L(\\{\\Omega\\}) = 1\n",
    "\\end{matrix}"
   ]
  },
  {
   "cell_type": "markdown",
   "metadata": {},
   "source": [
    "# 2. Measurability\n",
    "><b>Consider the state space $\\Omega = \\mathbb{R}$, with the $\\sigma$-algebra $\\mathcal{F} = \\{(-\\infty, 0], (0, \\infty), \\emptyset, \\mathbb{R}\\}$, and the random variable $X:\\Omega \\rightarrow \\mathbb{R}$ defined by:</b>"
   ]
  },
  {
   "cell_type": "markdown",
   "metadata": {},
   "source": [
    "><center>$X(\\omega) = \\left\\{ \\begin{array}{ll} 3 \\quad \\omega < 0 \\\\ 5 \\quad \\omega \\geq 0 \\end{array} \\right. $</center>"
   ]
  },
  {
   "cell_type": "markdown",
   "metadata": {},
   "source": [
    "><b>(a) Is X $\\mathcal{F}$ measurable?</b>"
   ]
  },
  {
   "cell_type": "markdown",
   "metadata": {},
   "source": [
    "<center>No. Consider the interval $I = [4,10]$, then $X^{-1}(I) = [0, \\infty) \\notin \\mathcal{F}$</center>"
   ]
  },
  {
   "cell_type": "markdown",
   "metadata": {},
   "source": [
    "# 3. Stochastic Integration\n",
    "><b>(a) Given that the company chooses a fixed investment strategy $I \\equiv k$, between time 0 and T, derive an expression for what the value of of the project at time T is. The value should be expressed as a function of $W_T$, $k$, $\\mu$ and $\\sigma$.</b>"
   ]
  },
  {
   "cell_type": "markdown",
   "metadata": {},
   "source": [
    "$$V_T = \\mu k \\int_0^Tdt + \\sigma k\\oint_0^TdW_t$$"
   ]
  },
  {
   "cell_type": "markdown",
   "metadata": {},
   "source": [
    "$$V_T = \\mu k T + \\sigma k W_T$$"
   ]
  },
  {
   "cell_type": "markdown",
   "metadata": {},
   "source": [
    "><b>(b) Assume that the company must determine a constant investment strategy at $t=0$, $I\\equiv k$. What value of k should the company choose?</b>"
   ]
  },
  {
   "cell_type": "markdown",
   "metadata": {},
   "source": [
    "$$U = E(V_T) - \\frac{\\gamma}{2}Var(V_T)$$"
   ]
  },
  {
   "cell_type": "markdown",
   "metadata": {},
   "source": [
    "$$U = \\mu kT - \\frac{\\gamma}{2}\\sigma^2 k^2 T$$"
   ]
  },
  {
   "cell_type": "markdown",
   "metadata": {},
   "source": [
    "$$\\frac{dU}{dk} = \\mu T - \\gamma \\sigma^2 k T = 0$$"
   ]
  },
  {
   "cell_type": "markdown",
   "metadata": {},
   "source": [
    "$$\\gamma \\sigma^2 kT = \\mu T$$"
   ]
  },
  {
   "cell_type": "markdown",
   "metadata": {},
   "source": [
    "$$k = \\frac{\\mu}{\\gamma \\sigma^2}$$"
   ]
  },
  {
   "cell_type": "markdown",
   "metadata": {},
   "source": [
    "<center>$\\frac{d^2 U}{(dk)^2} = - \\gamma \\sigma^2 T < 0$ so we have found a local maximum.</center>"
   ]
  },
  {
   "cell_type": "markdown",
   "metadata": {},
   "source": [
    "# 4. Ito's Lemma\n",
    "><b>(a) Consider the stochastic process: \n",
    "    \n",
    "<center>$dX_t = \\mu dt + \\sigma dW_t$</center>\n",
    "</b>"
   ]
  },
  {
   "cell_type": "markdown",
   "metadata": {},
   "source": [
    "><b>Find a closed form expression for Q, defined by the stochastic integral:</b>"
   ]
  },
  {
   "cell_type": "markdown",
   "metadata": {},
   "source": [
    "$$Q = \\oint_0^T 3X_t(\\mu X_t + \\sigma^2)dt + 3X_t \\sigma dW_t$$"
   ]
  },
  {
   "cell_type": "markdown",
   "metadata": {},
   "source": [
    "><b>by postulating a function $G(t, W_t)$ that satisfies:</b>"
   ]
  },
  {
   "cell_type": "markdown",
   "metadata": {},
   "source": [
    "$$dG_t = 3X_t(\\mu X_t + \\sigma^2)dt + 3X_t^2 \\sigma dW_t$$"
   ]
  },
  {
   "cell_type": "markdown",
   "metadata": {},
   "source": [
    "><b>and using the definition of the stochastic integral in class to get:</b>"
   ]
  },
  {
   "cell_type": "markdown",
   "metadata": {},
   "source": [
    "$$Q = G(T, W_T) - G(0, W_0)$$"
   ]
  },
  {
   "cell_type": "markdown",
   "metadata": {},
   "source": [
    "<center>There are only a few terms in the differential so I will guess $G_t = 0$.</center>"
   ]
  },
  {
   "cell_type": "markdown",
   "metadata": {},
   "source": [
    "$$dG_t = 3\\mu X_t^2  dt + 3\\sigma^2 X_t  dt + 3X_t^2 \\sigma dW_t = G_X dX + \\frac{1}{2}G_{XX}(dX)^2$$"
   ]
  },
  {
   "cell_type": "markdown",
   "metadata": {},
   "source": [
    "$$dG_t = 3X_t^2(\\mu dt + \\sigma dW_t) + \\frac{1}{2}6 X_t \\sigma^2  dt = G_X dX + \\frac{1}{2}G_{XX}(dX)^2$$"
   ]
  },
  {
   "cell_type": "markdown",
   "metadata": {},
   "source": [
    "$$dG_t = 3X_t^2 dX + \\frac{1}{2}6 X_t (dX)^2 = G_X dX + \\frac{1}{2}G_{XX}(dX)^2$$"
   ]
  },
  {
   "cell_type": "markdown",
   "metadata": {},
   "source": [
    "$$ \\implies G_X = 3X^2 \\;\\;\\;\\;\\; G_{XX} = 6X \\;\\;\\;\\;\\; $$"
   ]
  },
  {
   "cell_type": "markdown",
   "metadata": {},
   "source": [
    "<center>Possible solution: $G(t, W_t) = X_t^3 = (X(0) + \\mu t + \\sigma W_t)^3$</center>"
   ]
  },
  {
   "cell_type": "markdown",
   "metadata": {},
   "source": [
    "$$Q = G(T, W_T) - G(0, W_0) = (X(0) + \\mu T + \\sigma W_T)^3 - X(0)^3$$"
   ]
  },
  {
   "cell_type": "code",
   "execution_count": null,
   "metadata": {},
   "outputs": [],
   "source": []
  }
 ],
 "metadata": {
  "kernelspec": {
   "display_name": "Python 3",
   "language": "python",
   "name": "python3"
  },
  "language_info": {
   "codemirror_mode": {
    "name": "ipython",
    "version": 3
   },
   "file_extension": ".py",
   "mimetype": "text/x-python",
   "name": "python",
   "nbconvert_exporter": "python",
   "pygments_lexer": "ipython3",
   "version": "3.6.8"
  }
 },
 "nbformat": 4,
 "nbformat_minor": 4
}
